{
  "cells": [
    {
      "cell_type": "markdown",
      "metadata": {
        "id": "kbgN-3zlobac"
      },
      "source": [
        "![image info](https://raw.githubusercontent.com/albahnsen/MIAD_ML_and_NLP/main/images/banner_1.png)"
      ]
    },
    {
      "cell_type": "markdown",
      "metadata": {
        "id": "4ViEE9e_obak"
      },
      "source": [
        "# Taller: Construcción e implementación de árboles de decisión y métodos de ensamblaje\n",
        "\n",
        "En este taller podrá poner en práctica los sus conocimientos sobre construcción e implementación de árboles de decisión y métodos de ensamblajes. El taller está constituido por 9 puntos, 5 relacionados con árboles de decisión (parte A) y 4 con métodos de ensamblaje (parte B)."
      ]
    },
    {
      "cell_type": "markdown",
      "metadata": {
        "id": "XWgUJA7Uobam"
      },
      "source": [
        "## Parte A - Árboles de decisión\n",
        "\n",
        "En esta parte del taller se usará el conjunto de datos de Capital Bikeshare de Kaggle, donde cada observación representa el alquiler de una bicicleta durante una hora y día determinado. Para más detalles puede visitar los siguientes enlaces: [datos](https://github.com/justmarkham/DAT8/blob/master/data/bikeshare.csv), [dicccionario de datos](https://www.kaggle.com/c/bike-sharing-demand/data)."
      ]
    },
    {
      "cell_type": "markdown",
      "metadata": {
        "id": "YduZPW-ioban"
      },
      "source": [
        "### Datos prestamo de bicicletas"
      ]
    },
    {
      "cell_type": "code",
      "execution_count": null,
      "metadata": {
        "id": "PKf8SaZtobao"
      },
      "outputs": [],
      "source": [
        "import warnings\n",
        "warnings.filterwarnings('ignore')"
      ]
    },
    {
      "cell_type": "code",
      "execution_count": 67,
      "metadata": {
        "id": "nK-snFhxobar"
      },
      "outputs": [],
      "source": [
        "# Importación de librerías\n",
        "%matplotlib inline\n",
        "import pandas as pd\n",
        "import numpy as np\n",
        "from sklearn.model_selection import cross_val_score\n",
        "from sklearn.linear_model import LinearRegression\n",
        "from sklearn.tree import DecisionTreeRegressor, export_graphviz"
      ]
    },
    {
      "cell_type": "code",
      "execution_count": 68,
      "metadata": {
        "colab": {
          "base_uri": "https://localhost:8080/",
          "height": 238
        },
        "id": "BV7QeIKlobas",
        "outputId": "937931a4-fe0d-4593-b762-e0a58e7bd4fb"
      },
      "outputs": [
        {
          "output_type": "execute_result",
          "data": {
            "text/plain": [
              "                     season  holiday  workingday  weather  temp   atemp  \\\n",
              "datetime                                                                  \n",
              "2011-01-01 00:00:00       1        0           0        1  9.84  14.395   \n",
              "2011-01-01 01:00:00       1        0           0        1  9.02  13.635   \n",
              "2011-01-01 02:00:00       1        0           0        1  9.02  13.635   \n",
              "2011-01-01 03:00:00       1        0           0        1  9.84  14.395   \n",
              "2011-01-01 04:00:00       1        0           0        1  9.84  14.395   \n",
              "\n",
              "                     humidity  windspeed  casual  registered  total  hour  \n",
              "datetime                                                                   \n",
              "2011-01-01 00:00:00        81        0.0       3          13     16     0  \n",
              "2011-01-01 01:00:00        80        0.0       8          32     40     1  \n",
              "2011-01-01 02:00:00        80        0.0       5          27     32     2  \n",
              "2011-01-01 03:00:00        75        0.0       3          10     13     3  \n",
              "2011-01-01 04:00:00        75        0.0       0           1      1     4  "
            ],
            "text/html": [
              "\n",
              "  <div id=\"df-f6a699bd-c746-478c-a38d-45f1a67df160\">\n",
              "    <div class=\"colab-df-container\">\n",
              "      <div>\n",
              "<style scoped>\n",
              "    .dataframe tbody tr th:only-of-type {\n",
              "        vertical-align: middle;\n",
              "    }\n",
              "\n",
              "    .dataframe tbody tr th {\n",
              "        vertical-align: top;\n",
              "    }\n",
              "\n",
              "    .dataframe thead th {\n",
              "        text-align: right;\n",
              "    }\n",
              "</style>\n",
              "<table border=\"1\" class=\"dataframe\">\n",
              "  <thead>\n",
              "    <tr style=\"text-align: right;\">\n",
              "      <th></th>\n",
              "      <th>season</th>\n",
              "      <th>holiday</th>\n",
              "      <th>workingday</th>\n",
              "      <th>weather</th>\n",
              "      <th>temp</th>\n",
              "      <th>atemp</th>\n",
              "      <th>humidity</th>\n",
              "      <th>windspeed</th>\n",
              "      <th>casual</th>\n",
              "      <th>registered</th>\n",
              "      <th>total</th>\n",
              "      <th>hour</th>\n",
              "    </tr>\n",
              "    <tr>\n",
              "      <th>datetime</th>\n",
              "      <th></th>\n",
              "      <th></th>\n",
              "      <th></th>\n",
              "      <th></th>\n",
              "      <th></th>\n",
              "      <th></th>\n",
              "      <th></th>\n",
              "      <th></th>\n",
              "      <th></th>\n",
              "      <th></th>\n",
              "      <th></th>\n",
              "      <th></th>\n",
              "    </tr>\n",
              "  </thead>\n",
              "  <tbody>\n",
              "    <tr>\n",
              "      <th>2011-01-01 00:00:00</th>\n",
              "      <td>1</td>\n",
              "      <td>0</td>\n",
              "      <td>0</td>\n",
              "      <td>1</td>\n",
              "      <td>9.84</td>\n",
              "      <td>14.395</td>\n",
              "      <td>81</td>\n",
              "      <td>0.0</td>\n",
              "      <td>3</td>\n",
              "      <td>13</td>\n",
              "      <td>16</td>\n",
              "      <td>0</td>\n",
              "    </tr>\n",
              "    <tr>\n",
              "      <th>2011-01-01 01:00:00</th>\n",
              "      <td>1</td>\n",
              "      <td>0</td>\n",
              "      <td>0</td>\n",
              "      <td>1</td>\n",
              "      <td>9.02</td>\n",
              "      <td>13.635</td>\n",
              "      <td>80</td>\n",
              "      <td>0.0</td>\n",
              "      <td>8</td>\n",
              "      <td>32</td>\n",
              "      <td>40</td>\n",
              "      <td>1</td>\n",
              "    </tr>\n",
              "    <tr>\n",
              "      <th>2011-01-01 02:00:00</th>\n",
              "      <td>1</td>\n",
              "      <td>0</td>\n",
              "      <td>0</td>\n",
              "      <td>1</td>\n",
              "      <td>9.02</td>\n",
              "      <td>13.635</td>\n",
              "      <td>80</td>\n",
              "      <td>0.0</td>\n",
              "      <td>5</td>\n",
              "      <td>27</td>\n",
              "      <td>32</td>\n",
              "      <td>2</td>\n",
              "    </tr>\n",
              "    <tr>\n",
              "      <th>2011-01-01 03:00:00</th>\n",
              "      <td>1</td>\n",
              "      <td>0</td>\n",
              "      <td>0</td>\n",
              "      <td>1</td>\n",
              "      <td>9.84</td>\n",
              "      <td>14.395</td>\n",
              "      <td>75</td>\n",
              "      <td>0.0</td>\n",
              "      <td>3</td>\n",
              "      <td>10</td>\n",
              "      <td>13</td>\n",
              "      <td>3</td>\n",
              "    </tr>\n",
              "    <tr>\n",
              "      <th>2011-01-01 04:00:00</th>\n",
              "      <td>1</td>\n",
              "      <td>0</td>\n",
              "      <td>0</td>\n",
              "      <td>1</td>\n",
              "      <td>9.84</td>\n",
              "      <td>14.395</td>\n",
              "      <td>75</td>\n",
              "      <td>0.0</td>\n",
              "      <td>0</td>\n",
              "      <td>1</td>\n",
              "      <td>1</td>\n",
              "      <td>4</td>\n",
              "    </tr>\n",
              "  </tbody>\n",
              "</table>\n",
              "</div>\n",
              "      <button class=\"colab-df-convert\" onclick=\"convertToInteractive('df-f6a699bd-c746-478c-a38d-45f1a67df160')\"\n",
              "              title=\"Convert this dataframe to an interactive table.\"\n",
              "              style=\"display:none;\">\n",
              "        \n",
              "  <svg xmlns=\"http://www.w3.org/2000/svg\" height=\"24px\"viewBox=\"0 0 24 24\"\n",
              "       width=\"24px\">\n",
              "    <path d=\"M0 0h24v24H0V0z\" fill=\"none\"/>\n",
              "    <path d=\"M18.56 5.44l.94 2.06.94-2.06 2.06-.94-2.06-.94-.94-2.06-.94 2.06-2.06.94zm-11 1L8.5 8.5l.94-2.06 2.06-.94-2.06-.94L8.5 2.5l-.94 2.06-2.06.94zm10 10l.94 2.06.94-2.06 2.06-.94-2.06-.94-.94-2.06-.94 2.06-2.06.94z\"/><path d=\"M17.41 7.96l-1.37-1.37c-.4-.4-.92-.59-1.43-.59-.52 0-1.04.2-1.43.59L10.3 9.45l-7.72 7.72c-.78.78-.78 2.05 0 2.83L4 21.41c.39.39.9.59 1.41.59.51 0 1.02-.2 1.41-.59l7.78-7.78 2.81-2.81c.8-.78.8-2.07 0-2.86zM5.41 20L4 18.59l7.72-7.72 1.47 1.35L5.41 20z\"/>\n",
              "  </svg>\n",
              "      </button>\n",
              "      \n",
              "  <style>\n",
              "    .colab-df-container {\n",
              "      display:flex;\n",
              "      flex-wrap:wrap;\n",
              "      gap: 12px;\n",
              "    }\n",
              "\n",
              "    .colab-df-convert {\n",
              "      background-color: #E8F0FE;\n",
              "      border: none;\n",
              "      border-radius: 50%;\n",
              "      cursor: pointer;\n",
              "      display: none;\n",
              "      fill: #1967D2;\n",
              "      height: 32px;\n",
              "      padding: 0 0 0 0;\n",
              "      width: 32px;\n",
              "    }\n",
              "\n",
              "    .colab-df-convert:hover {\n",
              "      background-color: #E2EBFA;\n",
              "      box-shadow: 0px 1px 2px rgba(60, 64, 67, 0.3), 0px 1px 3px 1px rgba(60, 64, 67, 0.15);\n",
              "      fill: #174EA6;\n",
              "    }\n",
              "\n",
              "    [theme=dark] .colab-df-convert {\n",
              "      background-color: #3B4455;\n",
              "      fill: #D2E3FC;\n",
              "    }\n",
              "\n",
              "    [theme=dark] .colab-df-convert:hover {\n",
              "      background-color: #434B5C;\n",
              "      box-shadow: 0px 1px 3px 1px rgba(0, 0, 0, 0.15);\n",
              "      filter: drop-shadow(0px 1px 2px rgba(0, 0, 0, 0.3));\n",
              "      fill: #FFFFFF;\n",
              "    }\n",
              "  </style>\n",
              "\n",
              "      <script>\n",
              "        const buttonEl =\n",
              "          document.querySelector('#df-f6a699bd-c746-478c-a38d-45f1a67df160 button.colab-df-convert');\n",
              "        buttonEl.style.display =\n",
              "          google.colab.kernel.accessAllowed ? 'block' : 'none';\n",
              "\n",
              "        async function convertToInteractive(key) {\n",
              "          const element = document.querySelector('#df-f6a699bd-c746-478c-a38d-45f1a67df160');\n",
              "          const dataTable =\n",
              "            await google.colab.kernel.invokeFunction('convertToInteractive',\n",
              "                                                     [key], {});\n",
              "          if (!dataTable) return;\n",
              "\n",
              "          const docLinkHtml = 'Like what you see? Visit the ' +\n",
              "            '<a target=\"_blank\" href=https://colab.research.google.com/notebooks/data_table.ipynb>data table notebook</a>'\n",
              "            + ' to learn more about interactive tables.';\n",
              "          element.innerHTML = '';\n",
              "          dataTable['output_type'] = 'display_data';\n",
              "          await google.colab.output.renderOutput(dataTable, element);\n",
              "          const docLink = document.createElement('div');\n",
              "          docLink.innerHTML = docLinkHtml;\n",
              "          element.appendChild(docLink);\n",
              "        }\n",
              "      </script>\n",
              "    </div>\n",
              "  </div>\n",
              "  "
            ]
          },
          "metadata": {},
          "execution_count": 68
        }
      ],
      "source": [
        "# Lectura de la información de archivo .csv\n",
        "bikes = pd.read_csv('https://raw.githubusercontent.com/albahnsen/MIAD_ML_and_NLP/main/datasets/bikeshare.csv', index_col='datetime', parse_dates=True)\n",
        "# Renombrar variable \"count\" a \"total\"\n",
        "bikes.rename(columns={'count':'total'}, inplace=True)\n",
        "# Crear la hora como una variable \n",
        "bikes['hour'] = bikes.index.hour\n",
        "# Visualización\n",
        "bikes.head()"
      ]
    },
    {
      "cell_type": "markdown",
      "metadata": {
        "id": "m5keepAmobav"
      },
      "source": [
        "### Punto 1 - Análisis descriptivo\n",
        "\n",
        "Ejecute las celdas 1.1 y 1.2. A partir de los resultados realice un análisis descriptivo sobre las variables hour y workingday, escriba sus inferencias sobre los datos. Para complementar su análisis puede usar métricas como máximo, mínimo, percentiles entre otros."
      ]
    },
    {
      "cell_type": "code",
      "execution_count": null,
      "metadata": {
        "colab": {
          "base_uri": "https://localhost:8080/"
        },
        "id": "14I1RUdtobax",
        "outputId": "fb3b81f3-6243-45c6-daa2-9ae194602506"
      },
      "outputs": [
        {
          "output_type": "stream",
          "name": "stdout",
          "text": [
            "workingday\n",
            "0    188.506621\n",
            "1    193.011873\n",
            "Name: total, dtype: float64\n",
            "\n"
          ]
        },
        {
          "output_type": "execute_result",
          "data": {
            "text/plain": [
              "count      2.000000\n",
              "mean     190.759247\n",
              "std        3.185694\n",
              "min      188.506621\n",
              "25%      189.632934\n",
              "50%      190.759247\n",
              "75%      191.885560\n",
              "max      193.011873\n",
              "Name: total, dtype: float64"
            ]
          },
          "metadata": {},
          "execution_count": 76
        }
      ],
      "source": [
        "# Celda 1.1\n",
        "print(bikes.groupby('workingday').total.mean())\n",
        "print()\n",
        "bikes.groupby('workingday').total.mean().describe()\n",
        "\n"
      ]
    },
    {
      "cell_type": "code",
      "execution_count": 55,
      "metadata": {
        "scrolled": true,
        "colab": {
          "base_uri": "https://localhost:8080/",
          "height": 740
        },
        "id": "tdLUU9kZoba0",
        "outputId": "2b0a7279-a973-46e5-c865-531445b56c7f"
      },
      "outputs": [
        {
          "output_type": "stream",
          "name": "stdout",
          "text": [
            "hour\n",
            "0      55.138462\n",
            "1      33.859031\n",
            "2      22.899554\n",
            "3      11.757506\n",
            "4       6.407240\n",
            "5      19.767699\n",
            "6      76.259341\n",
            "7     213.116484\n",
            "8     362.769231\n",
            "9     221.780220\n",
            "10    175.092308\n",
            "11    210.674725\n",
            "12    256.508772\n",
            "13    257.787281\n",
            "14    243.442982\n",
            "15    254.298246\n",
            "16    316.372807\n",
            "17    468.765351\n",
            "18    430.859649\n",
            "19    315.278509\n",
            "20    228.517544\n",
            "21    173.370614\n",
            "22    133.576754\n",
            "23     89.508772\n",
            "Name: total, dtype: float64\n",
            "\n"
          ]
        },
        {
          "output_type": "execute_result",
          "data": {
            "text/plain": [
              "<matplotlib.axes._subplots.AxesSubplot at 0x7fd7deb92890>"
            ]
          },
          "metadata": {},
          "execution_count": 55
        },
        {
          "output_type": "display_data",
          "data": {
            "text/plain": [
              "<Figure size 432x288 with 2 Axes>"
            ],
            "image/png": "[encoded data removed]"
          },
          "metadata": {
            "needs_background": "light"
          }
        }
      ],
      "source": [
        "# Celda 1.2\n",
        "print(bikes.groupby('hour').total.mean())\n",
        "print()\n",
        "bikes.groupby('hour').total.mean().describe()\n",
        "\n",
        "import matplotlib.pyplot as plt\n",
        "\n",
        "bikes.plot(kind='scatter', x='workingday', y='hour', c='total', colormap='jet', xlim=(-1,2), ylim=(0,23))\n",
        "\n",
        "\n"
      ]
    },
    {
      "cell_type": "markdown",
      "source": [
        "En cuanto a la variable **workingday**, se puede observar que las rentas promedio son similares en dias laborales y dias no laborales es similar.\n",
        "\n",
        "En cuanto a la variable **hour**, se observa que las rentas promedio en la mnoche y madrugada son bajas y ciertas horas del dia donde hay un promedio alto de rentas. Especificamente se observan 2 picos, a las 8am y a las 5pm. \n",
        "\n",
        "En el scatter Plot podemos visualizar por medio de una escala de colores el   aproximado de rentas promedio por cada hora del dia, dependiendo si es workingday o no. "
      ],
      "metadata": {
        "id": "TgYx_8wPj0IC"
      }
    },
    {
      "cell_type": "markdown",
      "metadata": {
        "id": "C_8qrk4loba1"
      },
      "source": [
        "### Punto 2 - Análisis de gráficos\n",
        "\n",
        "Primero ejecute la celda 2.1 y asegúrese de comprender el código y el resultado. Luego, en cada una de celdas 2.2 y 2.3 escriba un código que genere una gráfica de las rentas promedio por hora cuando la variable \"workingday\" es igual a 0 e igual a 1, respectivamente. Analice y escriba sus hallazgos."
      ]
    },
    {
      "cell_type": "code",
      "execution_count": null,
      "metadata": {
        "colab": {
          "base_uri": "https://localhost:8080/",
          "height": 296
        },
        "id": "L8BWRejKoba3",
        "outputId": "aa559489-b189-4307-d3ca-193e8b567a3a"
      },
      "outputs": [
        {
          "output_type": "execute_result",
          "data": {
            "text/plain": [
              "<matplotlib.axes._subplots.AxesSubplot at 0x7faa7fb2b0d0>"
            ]
          },
          "metadata": {},
          "execution_count": 33
        },
        {
          "output_type": "display_data",
          "data": {
            "text/plain": [
              "<Figure size 432x288 with 1 Axes>"
            ],
            "image/png": "[encoded data removed]"
          },
          "metadata": {
            "needs_background": "light"
          }
        }
      ],
      "source": [
        "# Celda 2.1 - rentas promedio para cada valor de la variable \"hour\"\n",
        "bikes.groupby('hour').total.mean().plot()"
      ]
    },
    {
      "cell_type": "markdown",
      "source": [
        "En la gráfica superior se pueden observar 2 picos de rentas promedio x hora, en las horas de la mañana temprano tipo 8:00 am se observa una alta demanda y en la tarde tipo 5:00 pm, siendo este último pico el de mayor demanda, **cerca de un 30% mas**, pero luego de darse estos 2 picos la demanda se decrementa. "
      ],
      "metadata": {
        "id": "vl0T9mGZzjgc"
      }
    },
    {
      "cell_type": "code",
      "execution_count": null,
      "metadata": {
        "colab": {
          "base_uri": "https://localhost:8080/",
          "height": 731
        },
        "id": "x1lB_OEOoba3",
        "outputId": "16a729f5-4114-4757-ba73-c1dbd3a0a189"
      },
      "outputs": [
        {
          "output_type": "execute_result",
          "data": {
            "text/plain": [
              "hour\n",
              "0.0      94.489655\n",
              "1.0      71.910345\n",
              "2.0      53.748252\n",
              "3.0      25.534722\n",
              "4.0       8.544828\n",
              "5.0       9.373239\n",
              "6.0      19.993103\n",
              "7.0      47.268966\n",
              "8.0     112.255172\n",
              "9.0     177.924138\n",
              "10.0    263.806897\n",
              "11.0    325.386207\n",
              "12.0    379.110345\n",
              "13.0    387.820690\n",
              "14.0    378.731034\n",
              "15.0    373.703448\n",
              "16.0    367.648276\n",
              "17.0    339.124138\n",
              "18.0    292.248276\n",
              "19.0    242.344828\n",
              "20.0    183.806897\n",
              "21.0    148.737931\n",
              "22.0    123.351724\n",
              "23.0     90.606897\n",
              "Name: total, dtype: float64"
            ]
          },
          "metadata": {},
          "execution_count": 38
        },
        {
          "output_type": "display_data",
          "data": {
            "text/plain": [
              "<Figure size 432x288 with 1 Axes>"
            ],
            "image/png": "[encoded data removed]"
          },
          "metadata": {
            "needs_background": "light"
          }
        }
      ],
      "source": [
        "# Celda 2.2 - \"workingday\"=0 escriba su código y hallazgos \n",
        "bikes.where(bikes['workingday'] == 0).groupby('hour').total.mean().plot()\n",
        "bikes.where(bikes['workingday'] == 0).groupby('hour').total.mean()"
      ]
    },
    {
      "cell_type": "markdown",
      "source": [
        "En la gráfica superior se puede observar que cuando **\"workingday\"=0**, a medida que avanza el día parecen incrementarse la rentas promedio x hora entre las 4:00am y las 1:00pm, pero despues del medio dia comienza a disminuir la demanda."
      ],
      "metadata": {
        "id": "wWX0tztgzui4"
      }
    },
    {
      "cell_type": "code",
      "execution_count": null,
      "metadata": {
        "colab": {
          "base_uri": "https://localhost:8080/",
          "height": 730
        },
        "id": "05aZ6VNroba4",
        "outputId": "4a53e4cd-3b51-4e6b-f286-abeffa18840d"
      },
      "outputs": [
        {
          "output_type": "execute_result",
          "data": {
            "text/plain": [
              "hour\n",
              "0.0      36.732258\n",
              "1.0      16.003236\n",
              "2.0       8.436066\n",
              "3.0       4.892734\n",
              "4.0       5.363636\n",
              "5.0      24.529032\n",
              "6.0     102.577419\n",
              "7.0     290.690323\n",
              "8.0     479.945161\n",
              "9.0     242.293548\n",
              "10.0    133.596774\n",
              "11.0    157.019355\n",
              "12.0    199.347267\n",
              "13.0    197.160772\n",
              "14.0    180.366559\n",
              "15.0    198.627010\n",
              "16.0    292.466238\n",
              "17.0    529.209003\n",
              "18.0    495.485531\n",
              "19.0    349.282958\n",
              "20.0    249.363344\n",
              "21.0    184.855305\n",
              "22.0    138.344051\n",
              "23.0     88.996785\n",
              "Name: total, dtype: float64"
            ]
          },
          "metadata": {},
          "execution_count": 37
        },
        {
          "output_type": "display_data",
          "data": {
            "text/plain": [
              "<Figure size 432x288 with 1 Axes>"
            ],
            "image/png": "[encoded data removed]"
          },
          "metadata": {
            "needs_background": "light"
          }
        }
      ],
      "source": [
        "# Celda 2.3 - \"workingday\"=1 escriba su código y hallazgos \n",
        "bikes.where(bikes['workingday'] == 1).groupby('hour').total.mean().plot()\n",
        "bikes.where(bikes['workingday'] == 1).groupby('hour').total.mean()"
      ]
    },
    {
      "cell_type": "markdown",
      "source": [
        "En la gráfica superior se puede observa que cuando **\"workingday\"=1** se pueden observar 2 picos de rentas promedio x hora, en las horas de la mañana temprano tipo 8:00 am se observa una alta demanda y en la tarde tipo 5:00pm, siendo este último pico el de mayor demanda, **cerca de un 10% mas**, pero luego de darse estos 2 picos la demanda se decrementa notablemente, esto se puede explicar pues entre semana (dias laborales) los clientes pueden usar las bicicletas solo para transportarse a la oficina y no a lo largo del día."
      ],
      "metadata": {
        "id": "w1XFUz9X1X8F"
      }
    },
    {
      "cell_type": "markdown",
      "metadata": {
        "id": "LGoIko0Roba6"
      },
      "source": [
        "### Punto 3 - Regresión lineal\n",
        "En la celda 3 ajuste un modelo de regresión lineal a todo el conjunto de datos, utilizando \"total\" como variable de respuesta y \"hour\" y \"workingday\" como las únicas variables predictoras. Luego, imprima los coeficientes e interprételos. ¿Cuáles son las limitaciones de la regresión lineal en este caso?"
      ]
    },
    {
      "cell_type": "code",
      "execution_count": 69,
      "metadata": {
        "colab": {
          "base_uri": "https://localhost:8080/"
        },
        "id": "xBW_KRkUoba7",
        "outputId": "8daebd7d-41d7-4e77-fb5d-1cda754f6a1c"
      },
      "outputs": [
        {
          "output_type": "stream",
          "name": "stdout",
          "text": [
            "----------------------------------------------------------------\n",
            "Coeficientes de hour y workingday ...\n",
            "[[10.49206282  4.07248627]]\n",
            "----------------------------------------------------------------\n",
            "Evaluando desempeño del Modelo...\n",
            "r2:\n",
            "0.16059115011434855\n",
            "mse:\n",
            "27541.255252498402\n"
          ]
        }
      ],
      "source": [
        "# Celda 3\n",
        "from sklearn.model_selection import train_test_split\n",
        "from sklearn.metrics import mean_squared_error,r2_score\n",
        "X=bikes[['hour','workingday']]\n",
        "y=bikes[['total']]\n",
        "\n",
        "# Iba a partir en Train y Test, pero en el enuncuado y en slack indican que se haga el ajuste del modelo con todos los datos.\n",
        "#X_train, X_test, y_train, y_test = train_test_split(X, y, test_size=0.33, random_state=0)\n",
        "\n",
        "\n",
        "lr=LinearRegression()\n",
        "#lr.fit(X_train, y_train)\n",
        "lr.fit(X, y)\n",
        "\n",
        "\n",
        "#y_pred = lr.predict(X_test)\n",
        "y_pred = lr.predict(X)\n",
        "\n",
        "print(\"-\"*64)\n",
        "print(\"Coeficientes de hour y workingday ...\")\n",
        "\n",
        "\n",
        "print(lr.coef_)\n",
        "\n",
        "\n",
        "print(\"-\"*64)\n",
        "print(\"Evaluando desempeño del Modelo...\")\n",
        "\n",
        "mi_r2 = r2_score(y, y_pred)\n",
        "print(\"r2:\")\n",
        "print(mi_r2)\n",
        "test_set_mse = mean_squared_error(y, y_pred)\n",
        "print(\"mse:\")\n",
        "print(test_set_mse)\n"
      ]
    },
    {
      "cell_type": "markdown",
      "source": [
        "Los coeficientes indican que, en promedio por cada incremento de una unidad en la **hora**, se incrementan en 10.55 la variable **total**, y de igual manera, si es un **workingday** se incrementa en 6.77 la variable **total**.\n",
        "\n",
        "Como se puede observar el R2 en el train es muy bajo y se puede concluir que este modelo con las varibles seleccionadas carece de poder predictivo.  De otra parte si vemos las gráficas del punto 2 del taller, estas no son lineales por lo cual un modelo lineal en principio no parece ser la mejor elección."
      ],
      "metadata": {
        "id": "tOma7Y3GOInv"
      }
    },
    {
      "cell_type": "markdown",
      "metadata": {
        "id": "0inErbhUoba8"
      },
      "source": [
        "### Punto 4 - Árbol de decisión manual\n",
        "En la celda 4 cree un árbol de decisiones para pronosticar la variable \"total\" iterando **manualmente** sobre las variables \"hour\" y  \"workingday\". El árbol debe tener al menos 6 nodos finales."
      ]
    },
    {
      "cell_type": "code",
      "execution_count": 70,
      "metadata": {
        "id": "W2TaJ3cuoba8",
        "colab": {
          "base_uri": "https://localhost:8080/"
        },
        "outputId": "d10a2fd0-e531-4615-e495-57cde7600bc4"
      },
      "outputs": [
        {
          "output_type": "execute_result",
          "data": {
            "text/plain": [
              "{'level': 0,\n",
              " 'mse': 33221.7624761002,\n",
              " 'n_samples': 10886,\n",
              " 'sl': {'level': 1,\n",
              "  'mse': 1259.9251623741604,\n",
              "  'n_samples': 2232,\n",
              "  'sl': {'level': 2,\n",
              "   'mse': 1588.7729536599095,\n",
              "   'n_samples': 1790,\n",
              "   'sl': {'level': 3,\n",
              "    'mse': 2062.470732360731,\n",
              "    'n_samples': 1357,\n",
              "    'sl': {'level': 4,\n",
              "     'mse': 2452.3637074572403,\n",
              "     'n_samples': 433,\n",
              "     'sl': {'level': 5,\n",
              "      'mse': 3389.2142687277046,\n",
              "      'n_samples': 290,\n",
              "      'sl': {'level': 6,\n",
              "       'mse': 0,\n",
              "       'n_samples': 145,\n",
              "       'split': -1,\n",
              "       'y_pred': 94},\n",
              "      'split': [0, 1.0],\n",
              "      'sr': {'level': 6,\n",
              "       'mse': 0,\n",
              "       'n_samples': 145,\n",
              "       'split': -1,\n",
              "       'y_pred': 71},\n",
              "      'y_pred': 83},\n",
              "     'split': [0, 2.0],\n",
              "     'sr': {'level': 5, 'mse': 0, 'n_samples': 143, 'split': -1, 'y_pred': 53},\n",
              "     'y_pred': 73},\n",
              "    'split': [1, 1.0],\n",
              "    'sr': {'level': 4,\n",
              "     'mse': 578.1305798325806,\n",
              "     'n_samples': 924,\n",
              "     'sl': {'level': 5,\n",
              "      'mse': 844.0295356440588,\n",
              "      'n_samples': 619,\n",
              "      'sl': {'level': 6,\n",
              "       'mse': 0,\n",
              "       'n_samples': 310,\n",
              "       'split': -1,\n",
              "       'y_pred': 36},\n",
              "      'split': [0, 1.0],\n",
              "      'sr': {'level': 6,\n",
              "       'mse': 0,\n",
              "       'n_samples': 309,\n",
              "       'split': -1,\n",
              "       'y_pred': 16},\n",
              "      'y_pred': 26},\n",
              "     'split': [0, 2.0],\n",
              "     'sr': {'level': 5, 'mse': 0, 'n_samples': 305, 'split': -1, 'y_pred': 8},\n",
              "     'y_pred': 20},\n",
              "    'y_pred': 37},\n",
              "   'split': [0, 3.0],\n",
              "   'sr': {'level': 3, 'mse': 0, 'n_samples': 433, 'split': -1, 'y_pred': 11},\n",
              "   'y_pred': 31},\n",
              "  'split': [0, 4.0],\n",
              "  'sr': {'level': 2, 'mse': 0, 'n_samples': 442, 'split': -1, 'y_pred': 6},\n",
              "  'y_pred': 26},\n",
              " 'split': [0, 5.0],\n",
              " 'sr': {'level': 1,\n",
              "  'mse': 33456.84659950488,\n",
              "  'n_samples': 8654,\n",
              "  'sl': {'level': 2,\n",
              "   'mse': 2846.1226892797727,\n",
              "   'n_samples': 907,\n",
              "   'sl': {'level': 3,\n",
              "    'mse': 385.7169342214294,\n",
              "    'n_samples': 287,\n",
              "    'split': -1,\n",
              "    'y_pred': 14},\n",
              "   'split': [1, 1.0],\n",
              "   'sr': {'level': 3,\n",
              "    'mse': 2201.5125182101974,\n",
              "    'n_samples': 620,\n",
              "    'sl': {'level': 4, 'mse': 0, 'n_samples': 310, 'split': -1, 'y_pred': 24},\n",
              "    'split': [0, 6.0],\n",
              "    'sr': {'level': 4, 'mse': 0, 'n_samples': 310, 'split': -1, 'y_pred': 102},\n",
              "    'y_pred': 63},\n",
              "   'y_pred': 48},\n",
              "  'split': [0, 7.0],\n",
              "  'sr': {'level': 2,\n",
              "   'mse': 35751.08285868101,\n",
              "   'n_samples': 7747,\n",
              "   'sl': {'level': 3,\n",
              "    'mse': 44974.67118667916,\n",
              "    'n_samples': 6835,\n",
              "    'sl': {'level': 4,\n",
              "     'mse': 59118.5649264301,\n",
              "     'n_samples': 5923,\n",
              "     'sl': {'level': 5,\n",
              "      'mse': 0,\n",
              "      'n_samples': 455,\n",
              "      'split': -1,\n",
              "      'y_pred': 213},\n",
              "     'split': [0, 8.0],\n",
              "     'sr': {'level': 5,\n",
              "      'mse': 62474.88094812977,\n",
              "      'n_samples': 5468,\n",
              "      'sl': {'level': 6,\n",
              "       'mse': 46698.561987951005,\n",
              "       'n_samples': 1820,\n",
              "       'split': -1,\n",
              "       'y_pred': 242},\n",
              "      'split': [0, 12.0],\n",
              "      'sr': {'level': 6,\n",
              "       'mse': 57335.571066509474,\n",
              "       'n_samples': 3648,\n",
              "       'split': -1,\n",
              "       'y_pred': 317},\n",
              "      'y_pred': 292},\n",
              "     'y_pred': 286},\n",
              "    'split': [0, 20.0],\n",
              "    'sr': {'level': 4,\n",
              "     'mse': 20679.907884725522,\n",
              "     'n_samples': 912,\n",
              "     'sl': {'level': 5,\n",
              "      'mse': 17582.473341260404,\n",
              "      'n_samples': 290,\n",
              "      'sl': {'level': 6,\n",
              "       'mse': 0,\n",
              "       'n_samples': 145,\n",
              "       'split': -1,\n",
              "       'y_pred': 183},\n",
              "      'split': [0, 21.0],\n",
              "      'sr': {'level': 6,\n",
              "       'mse': 0,\n",
              "       'n_samples': 145,\n",
              "       'split': -1,\n",
              "       'y_pred': 148},\n",
              "      'y_pred': 166},\n",
              "     'split': [1, 1.0],\n",
              "     'sr': {'level': 5,\n",
              "      'mse': 21081.782735910507,\n",
              "      'n_samples': 622,\n",
              "      'sl': {'level': 6,\n",
              "       'mse': 0,\n",
              "       'n_samples': 311,\n",
              "       'split': -1,\n",
              "       'y_pred': 249},\n",
              "      'split': [0, 21.0],\n",
              "      'sr': {'level': 6,\n",
              "       'mse': 0,\n",
              "       'n_samples': 311,\n",
              "       'split': -1,\n",
              "       'y_pred': 184},\n",
              "      'y_pred': 217},\n",
              "     'y_pred': 200},\n",
              "    'y_pred': 275},\n",
              "   'split': [0, 22.0],\n",
              "   'sr': {'level': 3,\n",
              "    'mse': 7528.191400238535,\n",
              "    'n_samples': 912,\n",
              "    'sl': {'level': 4, 'mse': 0, 'n_samples': 456, 'split': -1, 'y_pred': 133},\n",
              "    'split': [0, 23.0],\n",
              "    'sr': {'level': 4, 'mse': 0, 'n_samples': 456, 'split': -1, 'y_pred': 89},\n",
              "    'y_pred': 111},\n",
              "   'y_pred': 255},\n",
              "  'y_pred': 234},\n",
              " 'y_pred': 191}"
            ]
          },
          "metadata": {},
          "execution_count": 70
        }
      ],
      "source": [
        "# Celda 4\n",
        "X_train, X_test, y_train, y_test = train_test_split(X, y, test_size=0.33, random_state=0)\n",
        "\n",
        "# Definición de parámetros y criterios de parada\n",
        "max_depth = None\n",
        "num_pct = 10\n",
        "max_features = None\n",
        "min_gain=0.001\n",
        "\n",
        "# Definición de la función best_split para calcular cuál es la mejor variable y punto de cortepara hacer la bifurcación del árbol\n",
        "def best_split(X, y, num_pct=10):\n",
        "    \n",
        "    features = range(X.shape[1])\n",
        "    \n",
        "    best_split = [0, 0, 0]  # j, split, mse\n",
        "    \n",
        "    # Para todas las varibles \n",
        "    for j in features:\n",
        "        \n",
        "        splits = np.percentile(X.iloc[:, j], np.arange(0, 100, 100.0 / (num_pct+1)).tolist())\n",
        "        splits = np.unique(splits)[1:]\n",
        "        \n",
        "        # Para cada partición\n",
        "        for i,split in enumerate(splits):\n",
        "\n",
        "            mse = mse_impurity(X.iloc[:, j], y, split)\n",
        "           \n",
        "            #Si es la primera vez q entra guarda el primer mse como base, ya luego empieza buscar el menor mse\n",
        "            if (i==0 and j==0) or mse < best_split[2]:\n",
        "                best_split = [j, split, mse]\n",
        "    #print('return')\n",
        "    #print(best_split)\n",
        "    return best_split\n",
        "\n",
        "\n",
        "\n",
        "def mse_impurity(X_col, y, split):\n",
        "    \n",
        "    filter_l = X_col < split\n",
        "    y_l = y.loc[filter_l]\n",
        "    y_r = y.loc[~filter_l]\n",
        "    \n",
        "    mean_l = y_l.mean()\n",
        "    mean_r = y_r.mean()\n",
        "    \n",
        "    mse_l =  np.sum((y_l-mean_l)**2)/y_l.count()\n",
        "    mse_r =  np.sum((y_r-mean_r)**2)/y_r.count()\n",
        "   \n",
        "    mse_split_feature = mse_l + mse_r\n",
        "    \n",
        "    return mse_split_feature\n",
        "\n",
        "def tree_grow(X, y, level=0, max_mse=1000, max_depth=None, num_pct=10):\n",
        "    \n",
        "    # Si solo es una observación\n",
        "    if X.shape[0] == 1:\n",
        "        tree = dict(y_pred=y.iloc[:1].values[0], level=level, split=-1, n_samples=1, mse=0)\n",
        "        return tree\n",
        "    \n",
        "    # Calcular la mejor división\n",
        "    j, split, mse = best_split(X, y, num_pct)\n",
        "    \n",
        "    # Guardar el árbol y estimar la predicción\n",
        "    y_pred = int(y.mean()) \n",
        "    tree = dict(y_pred=y_pred, level=level, split=-1, n_samples=X.shape[0], mse=mse)\n",
        "    # Revisar el criterio de parada \n",
        "    \n",
        "    #print('criterio de parada')\n",
        "    #print(mse)\n",
        "    #print(max_mse)\n",
        "    \n",
        "    if mse < max_mse:\n",
        "        return tree\n",
        "    if max_depth is not None:\n",
        "        if level >= max_depth:\n",
        "            return tree   \n",
        "    \n",
        "    # Continuar creando la partición\n",
        "    filter_l = X.iloc[:, j] < split\n",
        "    X_l, y_l = X.loc[filter_l], y.loc[filter_l]\n",
        "    X_r, y_r = X.loc[~filter_l], y.loc[~filter_l]\n",
        "    tree['split'] = [j, split]\n",
        "\n",
        "    # Siguiente iteración para cada partición\n",
        "    \n",
        "    tree['sl'] = tree_grow(X_l, y_l, level + 1, max_mse=max_mse, max_depth=max_depth, num_pct=num_pct)\n",
        "    tree['sr'] = tree_grow(X_r, y_r, level + 1, max_mse=max_mse, max_depth=max_depth, num_pct=num_pct)\n",
        "    \n",
        "    return tree\n",
        "  \n",
        "\n",
        "tree_grow(X,  bikes.total, level=0, max_mse=500, max_depth=6, num_pct=8)\n"
      ]
    },
    {
      "cell_type": "markdown",
      "metadata": {
        "id": "XzvQImtNoba9"
      },
      "source": [
        "### Punto 5 - Árbol de decisión con librería\n",
        "En la celda 5 entrene un árbol de decisiones con la **librería sklearn**, usando las variables predictoras \"hour\" y \"workingday\" y calibre los parámetros que considere conveniente para obtener un mejor desempeño. Comente el desempeño del modelo con alguna métrica de desempeño de modelos de regresión y compare desempeño con el modelo del punto 3."
      ]
    },
    {
      "cell_type": "code",
      "execution_count": 70,
      "metadata": {
        "id": "BkmlSCQ6oba9",
        "colab": {
          "base_uri": "https://localhost:8080/",
          "height": 632
        },
        "outputId": "7e8d988e-aaff-4196-9ba3-32ea2bc6e960"
      },
      "outputs": [
        {
          "output_type": "stream",
          "name": "stdout",
          "text": [
            "(0.6501337581022684, 8)\n"
          ]
        },
        {
          "output_type": "display_data",
          "data": {
            "text/plain": [
              "<Figure size 432x288 with 1 Axes>"
            ],
            "image/png": "[encoded data removed]"
          },
          "metadata": {
            "needs_background": "light"
          }
        },
        {
          "output_type": "display_data",
          "data": {
            "text/plain": [
              "<Figure size 432x288 with 1 Axes>"
            ],
            "image/png": "[encoded data removed]"
          },
          "metadata": {
            "needs_background": "light"
          }
        }
      ],
      "source": [
        "# Celda 5  \n",
        "%matplotlib inline\n",
        "import matplotlib.pyplot as plt\n",
        "\n",
        "max_depth_range = range(1, 21)\n",
        "\n",
        "# Lista para guardar los valores del RMSE para cada valor de máxima profundidad (max_depth)\n",
        "r2_scores = []\n",
        "\n",
        "# Importación de modelos de sklearn \n",
        "from sklearn.model_selection import cross_val_score\n",
        "\n",
        "# Loop para obtener el desempeño del modelo de acuerdo con la máxima profundidad\n",
        "for depth in max_depth_range:\n",
        "    # Definición del árbol de decisión usando DecisionTreeClassifier de la libreria sklearn\n",
        "    regtree = DecisionTreeRegressor(max_depth=depth, random_state=1)\n",
        "    r2_scores.append(cross_val_score(regtree, np.array(X_train), np.array(y_train), cv=10, scoring='r2').mean())\n",
        "\n",
        "plt.plot(max_depth_range, r2_scores)\n",
        "plt.xlabel('max_depth')\n",
        "plt.ylabel('R2')\n",
        "\n",
        "# Mejor R2 (desempeño del modelo) y su correspondiente max_depth\n",
        "print(sorted(zip(r2_scores, max_depth_range))[::-1][0])\n",
        "\n",
        "# max_depth=8 fue el mejor, se ajusta un árbol usando este valor \n",
        "\n",
        "regtree=DecisionTreeRegressor(max_depth=8, random_state=1)\n",
        "regtree.fit(X_train,y_train)\n",
        "\n",
        "\n",
        "#/*Comparacion R2*/\n",
        "fig = plt.figure()\n",
        "ax = fig.add_axes([0,0,1,1])\n",
        "ax.set_title(\"R2\")\n",
        "ejeX = ['Linear Regression', 'DecisionTreeRegressor']\n",
        "ejeY = [mi_r2,regtree.score(X_test,y_test)]\n",
        "ax.bar(ejeX,ejeY)\n",
        "def addlabels(x,y,plotP):\n",
        "    for i in range(len(x)):\n",
        "        plotP.text(i,y[i],np.round(y[i], 6))\n",
        "addlabels(ejeX,ejeY,plt)\n",
        "plt.show()\n",
        "\n"
      ]
    },
    {
      "cell_type": "markdown",
      "source": [
        "Se calibro el parámetro max_depth, obteniendo 8 como el valor óptimo para max_depth que genera el R2 mas alto. \n",
        "Comparando el R2 de este modelo DecisionTreeRegressor con el R2 de la Regresion lineal del punto 3, el R2 de este modelo resulta ser mucho mejor."
      ],
      "metadata": {
        "id": "Bx6lsF_JH8NY"
      }
    },
    {
      "cell_type": "markdown",
      "metadata": {
        "id": "UGOF2TJ6oba9"
      },
      "source": [
        "## Parte B - Métodos de ensamblajes\n",
        "En esta parte del taller se usará el conjunto de datos de Popularidad de Noticias Online. El objetivo es predecir si la notica es popular o no, la populridad esta dada por la cantidad de reacciones en redes sociales. Para más detalles puede visitar el sigueinte enlace: [datos](https://archive.ics.uci.edu/ml/datasets/online+news+popularity)."
      ]
    },
    {
      "cell_type": "markdown",
      "metadata": {
        "id": "kxncwuyboba-"
      },
      "source": [
        "### Datos popularidad de noticias"
      ]
    },
    {
      "cell_type": "code",
      "execution_count": 56,
      "metadata": {
        "colab": {
          "base_uri": "https://localhost:8080/",
          "height": 386
        },
        "id": "s2Ji23s5oba-",
        "outputId": "eff75ebb-96e1-4f20-e727-704bf2b32ec5"
      },
      "outputs": [
        {
          "output_type": "execute_result",
          "data": {
            "text/plain": [
              "                                                 url  timedelta  \\\n",
              "0  http://mashable.com/2014/12/10/cia-torture-rep...       28.0   \n",
              "1  http://mashable.com/2013/10/18/bitlock-kicksta...      447.0   \n",
              "2  http://mashable.com/2013/07/24/google-glass-po...      533.0   \n",
              "3  http://mashable.com/2013/11/21/these-are-the-m...      413.0   \n",
              "4  http://mashable.com/2014/02/11/parking-ticket-...      331.0   \n",
              "\n",
              "   n_tokens_title  n_tokens_content  n_unique_tokens  n_non_stop_words  \\\n",
              "0             9.0             188.0         0.732620               1.0   \n",
              "1             7.0             297.0         0.653199               1.0   \n",
              "2            11.0             181.0         0.660377               1.0   \n",
              "3            12.0             781.0         0.497409               1.0   \n",
              "4             8.0             177.0         0.685714               1.0   \n",
              "\n",
              "   n_non_stop_unique_tokens  num_hrefs  num_self_hrefs  num_imgs  ...  \\\n",
              "0                  0.844262        5.0             1.0       1.0  ...   \n",
              "1                  0.815789        9.0             4.0       1.0  ...   \n",
              "2                  0.775701        4.0             3.0       1.0  ...   \n",
              "3                  0.677350       10.0             3.0       1.0  ...   \n",
              "4                  0.830357        3.0             2.0       1.0  ...   \n",
              "\n",
              "   min_positive_polarity  max_positive_polarity  avg_negative_polarity  \\\n",
              "0               0.200000                   0.80              -0.487500   \n",
              "1               0.160000                   0.50              -0.135340   \n",
              "2               0.136364                   1.00               0.000000   \n",
              "3               0.100000                   1.00              -0.195701   \n",
              "4               0.100000                   0.55              -0.175000   \n",
              "\n",
              "   min_negative_polarity  max_negative_polarity  title_subjectivity  \\\n",
              "0                  -0.60              -0.250000                 0.9   \n",
              "1                  -0.40              -0.050000                 0.1   \n",
              "2                   0.00               0.000000                 0.3   \n",
              "3                  -0.40              -0.071429                 0.0   \n",
              "4                  -0.25              -0.100000                 0.0   \n",
              "\n",
              "   title_sentiment_polarity  abs_title_subjectivity  \\\n",
              "0                       0.8                     0.4   \n",
              "1                      -0.1                     0.4   \n",
              "2                       1.0                     0.2   \n",
              "3                       0.0                     0.5   \n",
              "4                       0.0                     0.5   \n",
              "\n",
              "   abs_title_sentiment_polarity  Popular  \n",
              "0                           0.8        1  \n",
              "1                           0.1        0  \n",
              "2                           1.0        0  \n",
              "3                           0.0        0  \n",
              "4                           0.0        0  \n",
              "\n",
              "[5 rows x 61 columns]"
            ],
            "text/html": [
              "\n",
              "  <div id=\"df-771df9f4-7ff0-434c-826e-f614399e3ef6\">\n",
              "    <div class=\"colab-df-container\">\n",
              "      <div>\n",
              "<style scoped>\n",
              "    .dataframe tbody tr th:only-of-type {\n",
              "        vertical-align: middle;\n",
              "    }\n",
              "\n",
              "    .dataframe tbody tr th {\n",
              "        vertical-align: top;\n",
              "    }\n",
              "\n",
              "    .dataframe thead th {\n",
              "        text-align: right;\n",
              "    }\n",
              "</style>\n",
              "<table border=\"1\" class=\"dataframe\">\n",
              "  <thead>\n",
              "    <tr style=\"text-align: right;\">\n",
              "      <th></th>\n",
              "      <th>url</th>\n",
              "      <th>timedelta</th>\n",
              "      <th>n_tokens_title</th>\n",
              "      <th>n_tokens_content</th>\n",
              "      <th>n_unique_tokens</th>\n",
              "      <th>n_non_stop_words</th>\n",
              "      <th>n_non_stop_unique_tokens</th>\n",
              "      <th>num_hrefs</th>\n",
              "      <th>num_self_hrefs</th>\n",
              "      <th>num_imgs</th>\n",
              "      <th>...</th>\n",
              "      <th>min_positive_polarity</th>\n",
              "      <th>max_positive_polarity</th>\n",
              "      <th>avg_negative_polarity</th>\n",
              "      <th>min_negative_polarity</th>\n",
              "      <th>max_negative_polarity</th>\n",
              "      <th>title_subjectivity</th>\n",
              "      <th>title_sentiment_polarity</th>\n",
              "      <th>abs_title_subjectivity</th>\n",
              "      <th>abs_title_sentiment_polarity</th>\n",
              "      <th>Popular</th>\n",
              "    </tr>\n",
              "  </thead>\n",
              "  <tbody>\n",
              "    <tr>\n",
              "      <th>0</th>\n",
              "      <td>http://mashable.com/2014/12/10/cia-torture-rep...</td>\n",
              "      <td>28.0</td>\n",
              "      <td>9.0</td>\n",
              "      <td>188.0</td>\n",
              "      <td>0.732620</td>\n",
              "      <td>1.0</td>\n",
              "      <td>0.844262</td>\n",
              "      <td>5.0</td>\n",
              "      <td>1.0</td>\n",
              "      <td>1.0</td>\n",
              "      <td>...</td>\n",
              "      <td>0.200000</td>\n",
              "      <td>0.80</td>\n",
              "      <td>-0.487500</td>\n",
              "      <td>-0.60</td>\n",
              "      <td>-0.250000</td>\n",
              "      <td>0.9</td>\n",
              "      <td>0.8</td>\n",
              "      <td>0.4</td>\n",
              "      <td>0.8</td>\n",
              "      <td>1</td>\n",
              "    </tr>\n",
              "    <tr>\n",
              "      <th>1</th>\n",
              "      <td>http://mashable.com/2013/10/18/bitlock-kicksta...</td>\n",
              "      <td>447.0</td>\n",
              "      <td>7.0</td>\n",
              "      <td>297.0</td>\n",
              "      <td>0.653199</td>\n",
              "      <td>1.0</td>\n",
              "      <td>0.815789</td>\n",
              "      <td>9.0</td>\n",
              "      <td>4.0</td>\n",
              "      <td>1.0</td>\n",
              "      <td>...</td>\n",
              "      <td>0.160000</td>\n",
              "      <td>0.50</td>\n",
              "      <td>-0.135340</td>\n",
              "      <td>-0.40</td>\n",
              "      <td>-0.050000</td>\n",
              "      <td>0.1</td>\n",
              "      <td>-0.1</td>\n",
              "      <td>0.4</td>\n",
              "      <td>0.1</td>\n",
              "      <td>0</td>\n",
              "    </tr>\n",
              "    <tr>\n",
              "      <th>2</th>\n",
              "      <td>http://mashable.com/2013/07/24/google-glass-po...</td>\n",
              "      <td>533.0</td>\n",
              "      <td>11.0</td>\n",
              "      <td>181.0</td>\n",
              "      <td>0.660377</td>\n",
              "      <td>1.0</td>\n",
              "      <td>0.775701</td>\n",
              "      <td>4.0</td>\n",
              "      <td>3.0</td>\n",
              "      <td>1.0</td>\n",
              "      <td>...</td>\n",
              "      <td>0.136364</td>\n",
              "      <td>1.00</td>\n",
              "      <td>0.000000</td>\n",
              "      <td>0.00</td>\n",
              "      <td>0.000000</td>\n",
              "      <td>0.3</td>\n",
              "      <td>1.0</td>\n",
              "      <td>0.2</td>\n",
              "      <td>1.0</td>\n",
              "      <td>0</td>\n",
              "    </tr>\n",
              "    <tr>\n",
              "      <th>3</th>\n",
              "      <td>http://mashable.com/2013/11/21/these-are-the-m...</td>\n",
              "      <td>413.0</td>\n",
              "      <td>12.0</td>\n",
              "      <td>781.0</td>\n",
              "      <td>0.497409</td>\n",
              "      <td>1.0</td>\n",
              "      <td>0.677350</td>\n",
              "      <td>10.0</td>\n",
              "      <td>3.0</td>\n",
              "      <td>1.0</td>\n",
              "      <td>...</td>\n",
              "      <td>0.100000</td>\n",
              "      <td>1.00</td>\n",
              "      <td>-0.195701</td>\n",
              "      <td>-0.40</td>\n",
              "      <td>-0.071429</td>\n",
              "      <td>0.0</td>\n",
              "      <td>0.0</td>\n",
              "      <td>0.5</td>\n",
              "      <td>0.0</td>\n",
              "      <td>0</td>\n",
              "    </tr>\n",
              "    <tr>\n",
              "      <th>4</th>\n",
              "      <td>http://mashable.com/2014/02/11/parking-ticket-...</td>\n",
              "      <td>331.0</td>\n",
              "      <td>8.0</td>\n",
              "      <td>177.0</td>\n",
              "      <td>0.685714</td>\n",
              "      <td>1.0</td>\n",
              "      <td>0.830357</td>\n",
              "      <td>3.0</td>\n",
              "      <td>2.0</td>\n",
              "      <td>1.0</td>\n",
              "      <td>...</td>\n",
              "      <td>0.100000</td>\n",
              "      <td>0.55</td>\n",
              "      <td>-0.175000</td>\n",
              "      <td>-0.25</td>\n",
              "      <td>-0.100000</td>\n",
              "      <td>0.0</td>\n",
              "      <td>0.0</td>\n",
              "      <td>0.5</td>\n",
              "      <td>0.0</td>\n",
              "      <td>0</td>\n",
              "    </tr>\n",
              "  </tbody>\n",
              "</table>\n",
              "<p>5 rows × 61 columns</p>\n",
              "</div>\n",
              "      <button class=\"colab-df-convert\" onclick=\"convertToInteractive('df-771df9f4-7ff0-434c-826e-f614399e3ef6')\"\n",
              "              title=\"Convert this dataframe to an interactive table.\"\n",
              "              style=\"display:none;\">\n",
              "        \n",
              "  <svg xmlns=\"http://www.w3.org/2000/svg\" height=\"24px\"viewBox=\"0 0 24 24\"\n",
              "       width=\"24px\">\n",
              "    <path d=\"M0 0h24v24H0V0z\" fill=\"none\"/>\n",
              "    <path d=\"M18.56 5.44l.94 2.06.94-2.06 2.06-.94-2.06-.94-.94-2.06-.94 2.06-2.06.94zm-11 1L8.5 8.5l.94-2.06 2.06-.94-2.06-.94L8.5 2.5l-.94 2.06-2.06.94zm10 10l.94 2.06.94-2.06 2.06-.94-2.06-.94-.94-2.06-.94 2.06-2.06.94z\"/><path d=\"M17.41 7.96l-1.37-1.37c-.4-.4-.92-.59-1.43-.59-.52 0-1.04.2-1.43.59L10.3 9.45l-7.72 7.72c-.78.78-.78 2.05 0 2.83L4 21.41c.39.39.9.59 1.41.59.51 0 1.02-.2 1.41-.59l7.78-7.78 2.81-2.81c.8-.78.8-2.07 0-2.86zM5.41 20L4 18.59l7.72-7.72 1.47 1.35L5.41 20z\"/>\n",
              "  </svg>\n",
              "      </button>\n",
              "      \n",
              "  <style>\n",
              "    .colab-df-container {\n",
              "      display:flex;\n",
              "      flex-wrap:wrap;\n",
              "      gap: 12px;\n",
              "    }\n",
              "\n",
              "    .colab-df-convert {\n",
              "      background-color: #E8F0FE;\n",
              "      border: none;\n",
              "      border-radius: 50%;\n",
              "      cursor: pointer;\n",
              "      display: none;\n",
              "      fill: #1967D2;\n",
              "      height: 32px;\n",
              "      padding: 0 0 0 0;\n",
              "      width: 32px;\n",
              "    }\n",
              "\n",
              "    .colab-df-convert:hover {\n",
              "      background-color: #E2EBFA;\n",
              "      box-shadow: 0px 1px 2px rgba(60, 64, 67, 0.3), 0px 1px 3px 1px rgba(60, 64, 67, 0.15);\n",
              "      fill: #174EA6;\n",
              "    }\n",
              "\n",
              "    [theme=dark] .colab-df-convert {\n",
              "      background-color: #3B4455;\n",
              "      fill: #D2E3FC;\n",
              "    }\n",
              "\n",
              "    [theme=dark] .colab-df-convert:hover {\n",
              "      background-color: #434B5C;\n",
              "      box-shadow: 0px 1px 3px 1px rgba(0, 0, 0, 0.15);\n",
              "      filter: drop-shadow(0px 1px 2px rgba(0, 0, 0, 0.3));\n",
              "      fill: #FFFFFF;\n",
              "    }\n",
              "  </style>\n",
              "\n",
              "      <script>\n",
              "        const buttonEl =\n",
              "          document.querySelector('#df-771df9f4-7ff0-434c-826e-f614399e3ef6 button.colab-df-convert');\n",
              "        buttonEl.style.display =\n",
              "          google.colab.kernel.accessAllowed ? 'block' : 'none';\n",
              "\n",
              "        async function convertToInteractive(key) {\n",
              "          const element = document.querySelector('#df-771df9f4-7ff0-434c-826e-f614399e3ef6');\n",
              "          const dataTable =\n",
              "            await google.colab.kernel.invokeFunction('convertToInteractive',\n",
              "                                                     [key], {});\n",
              "          if (!dataTable) return;\n",
              "\n",
              "          const docLinkHtml = 'Like what you see? Visit the ' +\n",
              "            '<a target=\"_blank\" href=https://colab.research.google.com/notebooks/data_table.ipynb>data table notebook</a>'\n",
              "            + ' to learn more about interactive tables.';\n",
              "          element.innerHTML = '';\n",
              "          dataTable['output_type'] = 'display_data';\n",
              "          await google.colab.output.renderOutput(dataTable, element);\n",
              "          const docLink = document.createElement('div');\n",
              "          docLink.innerHTML = docLinkHtml;\n",
              "          element.appendChild(docLink);\n",
              "        }\n",
              "      </script>\n",
              "    </div>\n",
              "  </div>\n",
              "  "
            ]
          },
          "metadata": {},
          "execution_count": 56
        }
      ],
      "source": [
        "# Lectura de la información de archivo .csv\n",
        "df = pd.read_csv('https://raw.githubusercontent.com/albahnsen/MIAD_ML_and_NLP/main/datasets/mashable.csv', index_col=0)\n",
        "df.head()"
      ]
    },
    {
      "cell_type": "code",
      "execution_count": 57,
      "metadata": {
        "colab": {
          "base_uri": "https://localhost:8080/"
        },
        "id": "QRMj05NXoba-",
        "outputId": "7dceb7d1-ee55-4a7b-c3c2-965931665e3a"
      },
      "outputs": [
        {
          "output_type": "execute_result",
          "data": {
            "text/plain": [
              "0.5"
            ]
          },
          "metadata": {},
          "execution_count": 57
        }
      ],
      "source": [
        "# Definición variable de interes y variables predictoras\n",
        "X = df.drop(['url', 'Popular'], axis=1)\n",
        "y = df['Popular']\n",
        "y.mean()"
      ]
    },
    {
      "cell_type": "code",
      "execution_count": 58,
      "metadata": {
        "id": "YQIvaH88oba_"
      },
      "outputs": [],
      "source": [
        "# División de la muestra en set de entrenamiento y prueba\n",
        "from sklearn.model_selection import train_test_split\n",
        "X_train, X_test, y_train, y_test = train_test_split(X, y, random_state=1)"
      ]
    },
    {
      "cell_type": "markdown",
      "metadata": {
        "id": "YlMA5JmLoba_"
      },
      "source": [
        "## Punto 6 - Árbol de decisión y regresión logística\n",
        "En la celda 6 construya un árbol de decisión y una regresión logística. Para el árbol calibre al menos un parámetro y evalúe el desempeño de cada modelo usando las métricas de Accuracy y F1-Score."
      ]
    },
    {
      "cell_type": "code",
      "execution_count": 62,
      "metadata": {
        "id": "eEKnACVcobbA",
        "colab": {
          "base_uri": "https://localhost:8080/",
          "height": 1000
        },
        "outputId": "51536d5e-e24e-4f99-c255-678fab4a5932"
      },
      "outputs": [
        {
          "output_type": "stream",
          "name": "stderr",
          "text": [
            "/usr/local/lib/python3.7/dist-packages/sklearn/linear_model/_logistic.py:818: ConvergenceWarning: lbfgs failed to converge (status=1):\n",
            "STOP: TOTAL NO. of ITERATIONS REACHED LIMIT.\n",
            "\n",
            "Increase the number of iterations (max_iter) or scale the data as shown in:\n",
            "    https://scikit-learn.org/stable/modules/preprocessing.html\n",
            "Please also refer to the documentation for alternative solver options:\n",
            "    https://scikit-learn.org/stable/modules/linear_model.html#logistic-regression\n",
            "  extra_warning_msg=_LOGISTIC_SOLVER_CONVERGENCE_MSG,\n"
          ]
        },
        {
          "output_type": "stream",
          "name": "stdout",
          "text": [
            "----------------------------------------------------------------\n",
            "Regresión Logistica:\n",
            "----------------------------------------------------------------\n",
            "Intercept: [-6.25835659e-08]\n",
            "Coeficiente: [('timedelta', -2.5739694583348677e-05), ('n_tokens_title', -7.258564216513778e-07), ('n_tokens_content', 4.697455032147336e-05), ('n_unique_tokens', -5.239514766649371e-08), ('n_non_stop_words', -7.989175111960519e-08), ('n_non_stop_unique_tokens', -6.954912609405473e-08), ('num_hrefs', 2.881667447553808e-06), ('num_self_hrefs', -3.86527922046634e-09), ('num_imgs', 2.6123867239955555e-06), ('num_videos', 4.020284049589306e-07), ('average_token_length', -4.122928483794902e-07), ('num_keywords', -1.1025164845763391e-07), ('data_channel_is_lifestyle', 1.9547676157445958e-08), ('data_channel_is_entertainment', -3.360082075789724e-08), ('data_channel_is_bus', -7.781479498546927e-08), ('data_channel_is_socmed', 2.3914593369315628e-08), ('data_channel_is_tech', 3.2541392036852834e-08), ('data_channel_is_world', -1.3127739499464542e-07), ('kw_min_min', -1.4723962383143405e-05), ('kw_max_min', -2.2791865208114242e-05), ('kw_avg_min', -1.3695614268633334e-05), ('kw_min_max', -1.6742281599703514e-06), ('kw_max_max', -1.5039922756118898e-06), ('kw_avg_max', 1.8772038221192912e-07), ('kw_min_avg', 0.0001395822030955059), ('kw_max_avg', -8.07087128135548e-07), ('kw_avg_avg', 0.00028876614390150316), ('self_reference_min_shares', 9.160625269836586e-06), ('self_reference_max_shares', 1.958441192548109e-06), ('self_reference_avg_sharess', -3.2289392536334355e-06), ('weekday_is_monday', -6.13933404519487e-09), ('weekday_is_tuesday', -3.814920985842145e-08), ('weekday_is_wednesday', -4.314784348085613e-08), ('weekday_is_thursday', -9.717605187834079e-09), ('weekday_is_friday', -2.7311283688721583e-08), ('weekday_is_saturday', 1.186985874748896e-08), ('weekday_is_sunday', 5.0011851627135703e-08), ('is_weekend', 6.188171037462743e-08), ('LDA_00', -1.7648720832891926e-08), ('LDA_01', -2.4449519271610908e-08), ('LDA_02', -1.0805495230155651e-07), ('LDA_03', 7.96274177694371e-08), ('LDA_04', 7.942208750217245e-09), ('global_subjectivity', -1.4326730153110115e-08), ('global_sentiment_polarity', -4.981352019803751e-09), ('global_rate_positive_words', -1.4804501914271912e-09), ('global_rate_negative_words', -1.208454533233248e-09), ('rate_positive_words', -4.8995587421845114e-08), ('rate_negative_words', -3.0896164243583806e-08), ('avg_positive_polarity', -2.3753604139400197e-08), ('min_positive_polarity', -1.0651812198280261e-08), ('max_positive_polarity', -3.7345050366601806e-08), ('avg_negative_polarity', 4.120171392411344e-09), ('min_negative_polarity', 7.082315657076737e-10), ('max_negative_polarity', 3.651072606136138e-09), ('title_subjectivity', 3.520576397638413e-08), ('title_sentiment_polarity', 3.862381007127662e-08), ('abs_title_subjectivity', -1.3491134769895896e-08), ('abs_title_sentiment_polarity', 3.65567347248388e-08)]\n",
            "Accuracy: 0.6145\n",
            "0.6166666666666667\n",
            "              precision    recall  f1-score   support\n",
            "\n",
            "           0       0.61      0.63      0.62       744\n",
            "           1       0.62      0.60      0.61       756\n",
            "\n",
            "    accuracy                           0.62      1500\n",
            "   macro avg       0.62      0.62      0.62      1500\n",
            "weighted avg       0.62      0.62      0.62      1500\n",
            "\n",
            "\n",
            "----------------------------------------------------------------\n",
            "Arbol de Decisión:\n",
            "----------------------------------------------------------------\n"
          ]
        },
        {
          "output_type": "display_data",
          "data": {
            "text/plain": [
              "<Figure size 432x288 with 1 Axes>"
            ],
            "image/png": "[encoded data removed]"
          },
          "metadata": {
            "needs_background": "light"
          }
        },
        {
          "output_type": "execute_result",
          "data": {
            "text/plain": [
              "Text(0, 0.5, 'F1-Score')"
            ]
          },
          "metadata": {},
          "execution_count": 62
        },
        {
          "output_type": "display_data",
          "data": {
            "text/plain": [
              "<Figure size 432x288 with 1 Axes>"
            ],
            "image/png": "[encoded data removed]"
          },
          "metadata": {
            "needs_background": "light"
          }
        }
      ],
      "source": [
        "# Celda 6 Regresión Logistica\n",
        "from sklearn.linear_model import LogisticRegression\n",
        "from sklearn.metrics import classification_report\n",
        "from sklearn.metrics import accuracy_score\n",
        "\n",
        "modelo = LogisticRegression(penalty='none')\n",
        "modelo.fit(X = X_train, y = y_train)\n",
        "\n",
        "print(\"-\"*64)\n",
        "print(\"Regresión Logistica:\")\n",
        "print(\"-\"*64)\n",
        "print(\"Intercept:\", modelo.intercept_)\n",
        "print(\"Coeficiente:\", list(zip(X.columns, modelo.coef_.flatten(), )))\n",
        "print(\"Accuracy:\", modelo.score(X, y))\n",
        "\n",
        "y_pred_lr=modelo.predict(X_test)\n",
        "print(accuracy_score(y_test, y_pred_lr))\n",
        "print(classification_report(y_test, y_pred_lr))\n",
        "\n",
        "\n",
        "\n",
        "\n",
        "# Arbol de Decisión\n",
        "print()\n",
        "print(\"-\"*64)\n",
        "print(\"Arbol de Decisión:\")\n",
        "print(\"-\"*64)\n",
        "# Lista de valores para calibrar el criterio de parada de máxima profundidad (max_depth)\n",
        "max_depth_range = range(1, 21)\n",
        "\n",
        "# Lista para guardar los valores del accuracy y F1-Score para cada valor de máxima profundidad (max_depth)\n",
        "accuracy_scores = []\n",
        "f1_scores = []\n",
        "\n",
        "# Importación de modelos de sklearn \n",
        "from sklearn.model_selection import cross_val_score\n",
        "from sklearn.tree import DecisionTreeClassifier\n",
        "\n",
        "# Loop para obtener el desempeño del modelo de acuerdo con la máxima profundidad\n",
        "for depth in max_depth_range:\n",
        "    # Definición del árbol de decisión usando DecisionTreeClassifier de la libreria sklearn\n",
        "    clf = DecisionTreeClassifier(max_depth=depth, random_state=1)\n",
        "    accuracy_scores.append(cross_val_score(clf, X_train, y_train, cv=10, scoring='accuracy').mean())\n",
        "    f1_scores.append(cross_val_score(clf, X_train, y_train, cv=10, scoring='f1').mean())\n",
        "\n",
        "# Gráfica max_depth versus accuray\n",
        "plt.plot(max_depth_range, accuracy_scores)\n",
        "plt.xlabel('max_depth')\n",
        "plt.ylabel('Accuracy')\n",
        "plt.show()\n",
        "# Gráfica max_depth versus F1-Score\n",
        "plt.plot(max_depth_range, f1_scores)\n",
        "plt.xlabel('max_depth')\n",
        "plt.ylabel('F1-Score')"
      ]
    },
    {
      "cell_type": "code",
      "source": [
        "print('Mejor \"accuracy\"  y su correspondiente max_depth')\n",
        "print(sorted(zip(accuracy_scores, max_depth_range))[::-1][0])\n",
        "print('Mejor \"F-1 Score\" y su correspondiente max_depth')\n",
        "print(sorted(zip(f1_scores, max_depth_range))[::-1][0])"
      ],
      "metadata": {
        "colab": {
          "base_uri": "https://localhost:8080/"
        },
        "id": "zlq7e_b_SAFm",
        "outputId": "4a0bb19d-efd2-4bd1-e2af-7bf37ea42427"
      },
      "execution_count": 82,
      "outputs": [
        {
          "output_type": "stream",
          "name": "stdout",
          "text": [
            "Mejor \"accuracy\"  y su correspondiente max_depth\n",
            "(0.6308888888888888, 2)\n",
            "Mejor \"F-1 Score\" y su correspondiente max_depth\n",
            "(0.6264200632335681, 2)\n"
          ]
        }
      ]
    },
    {
      "cell_type": "markdown",
      "metadata": {
        "id": "9mE4nDaJobbA"
      },
      "source": [
        "### Punto 7 - Votación Mayoritaria\n",
        "En la celda 7 elabore un esamble con la metodología de **Votación mayoritaria** compuesto por 300 muestras bagged para cada uno de los siguientes escenarios:\n",
        "\n",
        "-100 árboles de decisión donde max_depth = None\\\n",
        "-100 árboles de decisión donde max_depth = 2\\\n",
        "-100 regresiones logísticas\n",
        "\n",
        "Evalúe los modelos utilizando las métricas de Accuracy y F1-Score."
      ]
    },
    {
      "cell_type": "code",
      "execution_count": 138,
      "metadata": {
        "id": "pztIDkSuobbA",
        "colab": {
          "base_uri": "https://localhost:8080/"
        },
        "outputId": "4648a161-3eee-4d11-822a-c8ef3e65c4a3"
      },
      "outputs": [
        {
          "output_type": "stream",
          "name": "stdout",
          "text": [
            "----------------------------------------------------------------\n",
            "DTClassifier\n",
            "DecisionTreeClassifier()\n",
            "0.6567567567567568 0.6613333333333333\n",
            "----------------------------------------------------------------\n",
            "DTClassifier_max_depth_2\n",
            "DecisionTreeClassifier(max_depth=2)\n",
            "0.631578947368421 0.6453333333333333\n",
            "----------------------------------------------------------------\n",
            "LogisticRegression\n",
            "LogisticRegression()\n",
            "0.6125760649087221 0.618\n"
          ]
        }
      ],
      "source": [
        "# Celda 7\n",
        "from sklearn.ensemble import BaggingClassifier\n",
        "from sklearn import metrics\n",
        "models = {'DTClassifier': DecisionTreeClassifier(),\n",
        "          'DTClassifier_max_depth_2': DecisionTreeClassifier(max_depth=2),\n",
        "          'LogisticRegression': LogisticRegression()}\n",
        "\n",
        "bagginclf = {}\n",
        "f1_scores_vm=[]\n",
        "accuracys_vm=[]\n",
        "\n",
        "for model in models.keys():\n",
        "    #models[model].fit(X_train, y_train)\n",
        "\n",
        "    bagginclf[model] = BaggingClassifier(base_estimator=models[model], max_samples=300, n_estimators=100, bootstrap=True,\n",
        "                            random_state=42, n_jobs=-1, oob_score=True)\n",
        "\n",
        "# Predicción y desempeño (F1-Score, Accuracy) al hacer votación mayoritaria con cada modelo\n",
        "for model in models.keys():\n",
        "    print(\"-\"*64)\n",
        "    print(model)    \n",
        "    print(models[model])\n",
        "    bagginclf[model].fit(X_train, y_train)\n",
        "    y_pred = bagginclf[model].predict(X_test)\n",
        "    f1_scores_vm.append(metrics.f1_score(y_pred, y_test))\n",
        "    accuracys_vm.append(metrics.accuracy_score(y_pred, y_test))\n",
        "    print(metrics.f1_score(y_pred, y_test), metrics.accuracy_score(y_pred, y_test))\n",
        "\n"
      ]
    },
    {
      "cell_type": "markdown",
      "metadata": {
        "id": "kaCDFk-TobbB"
      },
      "source": [
        "### Punto 8 - Votación Ponderada\n",
        "En la celda 8 elabore un ensamble con la metodología de **Votación ponderada** compuesto por 300 muestras bagged para los mismos tres escenarios del punto 7. Evalúe los modelos utilizando las métricas de Accuracy y F1-Score"
      ]
    },
    {
      "cell_type": "code",
      "execution_count": 139,
      "metadata": {
        "id": "Gdnr_9zKobbB",
        "colab": {
          "base_uri": "https://localhost:8080/"
        },
        "outputId": "36daf434-0275-4551-83fa-810a47b870ef"
      },
      "outputs": [
        {
          "output_type": "stream",
          "name": "stdout",
          "text": [
            "----------------------------------------------------------------\n",
            "DTClassifier\n",
            "0.6631087391594397 0.6633333333333333\n",
            "----------------------------------------------------------------\n",
            "DTClassifier_max_depth_2\n",
            "0.6324549237170597 0.6466666666666666\n",
            "----------------------------------------------------------------\n",
            "LogisticRegression\n",
            "0.6181818181818182 0.622\n"
          ]
        }
      ],
      "source": [
        "# Celda 8\n",
        "# Obtención de los pesos alpha de cada modelo de acuerdo al error OOB\n",
        "\n",
        "errors = np.zeros(clf.n_estimators)\n",
        "y_pred_all_ = np.zeros((X_test.shape[0], clf.n_estimators))\n",
        "\n",
        "f1_scores_vp=[]\n",
        "accuracys_vp=[]\n",
        "\n",
        "for model in models:\n",
        "  for i in range(bagginclf[model].n_estimators):\n",
        "    oob_sample = ~bagginclf[model].estimators_samples_[i]\n",
        "    y_pred_ = bagginclf[model].estimators_[i].predict(X_train.values[oob_sample])\n",
        "    errors[i] = metrics.accuracy_score(y_pred_, y_train.values[oob_sample])\n",
        "    y_pred_all_[:, i] = bagginclf[model].estimators_[i].predict(X_test)\n",
        "    \n",
        "  alpha = (1 - errors) / (1 - errors).sum()\n",
        "  y_pred = (np.sum(y_pred_all_ * alpha, axis=1) >= 0.5).astype(np.int)\n",
        "\n",
        "  # Desempeño (F1-Score, Accuracy) al hacer votación ponderada en cada modelo\n",
        "  print(\"-\"*64)\n",
        "  print(model) \n",
        "  f1_scores_vp.append(metrics.f1_score(y_pred, y_test))\n",
        "  accuracys_vp.append(metrics.accuracy_score(y_pred, y_test))   \n",
        "  print(metrics.f1_score(y_pred, y_test), metrics.accuracy_score(y_pred, y_test))\n",
        "\n",
        "\n"
      ]
    },
    {
      "cell_type": "markdown",
      "metadata": {
        "id": "FJh9t4D8obbB"
      },
      "source": [
        "### Punto 9 - Comparación y análisis de resultados\n",
        "En la celda 9 comente sobre los resultados obtenidos con las metodologías usadas en los puntos 7 y 8, compare los resultados y enuncie posibles ventajas o desventajas de cada una de ellas."
      ]
    },
    {
      "cell_type": "code",
      "execution_count": 143,
      "metadata": {
        "id": "wzXCRKvCobbC",
        "colab": {
          "base_uri": "https://localhost:8080/",
          "height": 1000
        },
        "outputId": "1629e12b-fda6-4621-943a-5cd2e3cc0306"
      },
      "outputs": [
        {
          "output_type": "display_data",
          "data": {
            "text/plain": [
              "<Figure size 432x288 with 1 Axes>"
            ],
            "image/png": "[encoded data removed]"
          },
          "metadata": {
            "needs_background": "light"
          }
        },
        {
          "output_type": "display_data",
          "data": {
            "text/plain": [
              "<Figure size 432x288 with 1 Axes>"
            ],
            "image/png": "[encoded data removed]"
          },
          "metadata": {
            "needs_background": "light"
          }
        },
        {
          "output_type": "display_data",
          "data": {
            "text/plain": [
              "<Figure size 432x288 with 1 Axes>"
            ],
            "image/png": "[encoded data removed]"
          },
          "metadata": {
            "needs_background": "light"
          }
        },
        {
          "output_type": "display_data",
          "data": {
            "text/plain": [
              "<Figure size 432x288 with 1 Axes>"
            ],
            "image/png": "[encoded data removed]"
          },
          "metadata": {
            "needs_background": "light"
          }
        }
      ],
      "source": [
        "# Celda 9\n",
        "\n",
        "#/*Comparacion F1-Score*/\n",
        "fig = plt.figure()\n",
        "ax = fig.add_axes([0,0,1,1])\n",
        "ax.set_title(\"F1-Score - Votación Mayoritaria\")\n",
        "ejeX = list(models.keys())\n",
        "ejeY = f1_scores_vm\n",
        "ax.bar(ejeX,ejeY)\n",
        "def addlabels(x,y,plotP):\n",
        "    for i in range(len(x)):\n",
        "        plotP.text(i,y[i],np.round(y[i], 6))\n",
        "addlabels(ejeX,ejeY,plt)\n",
        "plt.show()\n",
        "\n",
        "\n",
        "fig = plt.figure()\n",
        "ax = fig.add_axes([0,0,1,1])\n",
        "ax.set_title(\"F1-Score - Votación Ponderada\")\n",
        "ejeX = list(models.keys())\n",
        "ejeY = f1_scores_vp\n",
        "ax.bar(ejeX,ejeY)\n",
        "def addlabels(x,y,plotP):\n",
        "    for i in range(len(x)):\n",
        "        plotP.text(i,y[i],np.round(y[i], 6))\n",
        "addlabels(ejeX,ejeY,plt)\n",
        "plt.show()\n",
        "\n",
        "\n",
        "\n",
        "\n"
      ]
    },
    {
      "cell_type": "markdown",
      "source": [
        "Se observa que el F1-Score es ligeramente mas alto para el modelo de DTClassifier sin limites de profundidad, de igual manera que es ligeramente mas alto con la Votación Ponderada que con la Votación Mayoritaria."
      ],
      "metadata": {
        "id": "jtHOIXfjHADu"
      }
    },
    {
      "cell_type": "code",
      "source": [
        "#/*Comparacion Accuracy*/\n",
        "fig = plt.figure()\n",
        "ax = fig.add_axes([0,0,1,1])\n",
        "ax.set_title(\"Accuracy - Votación Mayoritaria\")\n",
        "ejeX = list(models.keys())\n",
        "ejeY = accuracys_vm\n",
        "ax.bar(ejeX,ejeY)\n",
        "def addlabels(x,y,plotP):\n",
        "    for i in range(len(x)):\n",
        "        plotP.text(i,y[i],np.round(y[i], 6))\n",
        "addlabels(ejeX,ejeY,plt)\n",
        "plt.show()\n",
        "\n",
        "\n",
        "fig = plt.figure()\n",
        "ax = fig.add_axes([0,0,1,1])\n",
        "ax.set_title(\"Accuracy  - Votación Ponderada\")\n",
        "ejeX = list(models.keys())\n",
        "ejeY = accuracys_vp\n",
        "ax.bar(ejeX,ejeY)\n",
        "def addlabels(x,y,plotP):\n",
        "    for i in range(len(x)):\n",
        "        plotP.text(i,y[i],np.round(y[i], 6))\n",
        "addlabels(ejeX,ejeY,plt)\n",
        "plt.show()"
      ],
      "metadata": {
        "colab": {
          "base_uri": "https://localhost:8080/",
          "height": 689
        },
        "id": "P8aQmLq5HVwb",
        "outputId": "4e2ea057-e93e-4244-f47f-c5a92f1ebc2f"
      },
      "execution_count": 144,
      "outputs": [
        {
          "output_type": "display_data",
          "data": {
            "text/plain": [
              "<Figure size 432x288 with 1 Axes>"
            ],
            "image/png": "[encoded data removed]"
          },
          "metadata": {
            "needs_background": "light"
          }
        },
        {
          "output_type": "display_data",
          "data": {
            "text/plain": [
              "<Figure size 432x288 with 1 Axes>"
            ],
            "image/png": "[encoded data removed]"
          },
          "metadata": {
            "needs_background": "light"
          }
        }
      ]
    },
    {
      "cell_type": "markdown",
      "source": [
        "Se observa que los resultados son similares en ambos puntos 7 (Votacion Mayoritaria) y 8 (Votación Ponderada), sin embargo  se puede apreciar que la Votación Ponderada arroja ligeramente mejores **F1-Score** y mejor **accuracy** en todos los casos, esto pensaria que se debe a que la votación ponderada maneja los pesos, y estos a su vez son mas altos para las predicciones con mejor desempeño, por ende las predicciones con mejor desempeño tendran mas incidencia en la votación, y al final generarán un resultado o una votación mas \"justa\" en un ensamble con la metodología de **votación ponderada**. "
      ],
      "metadata": {
        "id": "h0fyhjXDGGEq"
      }
    }
  ],
  "metadata": {
    "kernelspec": {
      "display_name": "Python 3",
      "language": "python",
      "name": "python3"
    },
    "language_info": {
      "codemirror_mode": {
        "name": "ipython",
        "version": 3
      },
      "file_extension": ".py",
      "mimetype": "text/x-python",
      "name": "python",
      "nbconvert_exporter": "python",
      "pygments_lexer": "ipython3",
      "version": "3.7.3"
    },
    "colab": {
      "name": "S1TC1_arboles_ensamblajes.ipynb",
      "provenance": [],
      "collapsed_sections": []
    }
  },
  "nbformat": 4,
  "nbformat_minor": 0
}