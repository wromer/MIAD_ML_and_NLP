{
  "cells": [
    {
      "cell_type": "markdown",
      "metadata": {
        "id": "DQe-Itk6xjpf"
      },
      "source": [
        "![image info](https://raw.githubusercontent.com/albahnsen/MIAD_ML_and_NLP/main/images/banner_1.png)"
      ]
    },
    {
      "cell_type": "markdown",
      "metadata": {
        "id": "AImhoenXxjpi"
      },
      "source": [
        "# Taller: Construcción e implementación de modelos Bagging, Random Forest y XGBoost\n",
        "\n",
        "En este taller podrán poner en práctica sus conocimientos sobre la construcción e implementación de modelos de Bagging, Random Forest y XGBoost. El taller está constituido por 8 puntos, en los cuales deberan seguir las intrucciones de cada numeral para su desarrollo."
      ]
    },
    {
      "cell_type": "code",
      "execution_count": null,
      "metadata": {
        "id": "wGckqcjJxjpk"
      },
      "outputs": [],
      "source": [
        "# Importación de librerías\n",
        "%matplotlib inline\n",
        "import pandas as pd\n",
        "import numpy as np\n",
        "from sklearn.model_selection import cross_val_score\n",
        "from sklearn.tree import DecisionTreeClassifier, DecisionTreeRegressor, export_graphviz\n",
        "from sklearn.ensemble import BaggingClassifier, RandomForestClassifier\n",
        "import seaborn as sns\n",
        "import matplotlib.pyplot as plt\n",
        "from sklearn.metrics import mean_squared_error, f1_score, accuracy_score\n",
        "from sklearn import metrics\n",
        "from sklearn.tree import plot_tree\n",
        "from sklearn.model_selection import RandomizedSearchCV, GridSearchCV"
      ]
    },
    {
      "cell_type": "markdown",
      "metadata": {
        "id": "zwMa1GUDxjpn"
      },
      "source": [
        "## Datos predicción precio de automóviles\n",
        "\n",
        "En este taller se usará el conjunto de datos de Car Listings de Kaggle donde cada observación representa el precio de un automóvil teniendo en cuenta distintas variables como año, marca, modelo, entre otras. El objetivo es predecir si el precio del automóvil es alto o no. Para más detalles puede visitar el siguiente enlace: [datos](https://www.kaggle.com/jpayne/852k-used-car-listings)."
      ]
    },
    {
      "cell_type": "code",
      "execution_count": null,
      "metadata": {
        "id": "5UR6mSCBxjpq"
      },
      "outputs": [],
      "source": [
        "import warnings\n",
        "warnings.filterwarnings('ignore')"
      ]
    },
    {
      "cell_type": "code",
      "execution_count": null,
      "metadata": {
        "colab": {
          "base_uri": "https://localhost:8080/",
          "height": 206
        },
        "id": "bCh5jh6Hxjpr",
        "outputId": "2f316cf9-1e56-4676-f46c-a6e81dc8addc"
      },
      "outputs": [
        {
          "output_type": "execute_result",
          "data": {
            "text/plain": [
              "     Year  Mileage  M_Camry  M_Camry4dr  M_CamryBase  M_CamryL  M_CamryLE  \\\n",
              "7    2014     6480        0           0            0         1          0   \n",
              "11   2014    39972        0           0            0         0          1   \n",
              "167  2016    18989        0           0            0         0          0   \n",
              "225  2014    51330        0           0            0         1          0   \n",
              "270  2007   116065        0           1            0         0          0   \n",
              "\n",
              "     M_CamrySE  M_CamryXLE  HighPrice  \n",
              "7            0           0          1  \n",
              "11           0           0          0  \n",
              "167          1           0          1  \n",
              "225          0           0          0  \n",
              "270          0           0          0  "
            ],
            "text/html": [
              "\n",
              "  <div id=\"df-33f8c094-ec5e-4545-b2a3-2d6413f300f0\">\n",
              "    <div class=\"colab-df-container\">\n",
              "      <div>\n",
              "<style scoped>\n",
              "    .dataframe tbody tr th:only-of-type {\n",
              "        vertical-align: middle;\n",
              "    }\n",
              "\n",
              "    .dataframe tbody tr th {\n",
              "        vertical-align: top;\n",
              "    }\n",
              "\n",
              "    .dataframe thead th {\n",
              "        text-align: right;\n",
              "    }\n",
              "</style>\n",
              "<table border=\"1\" class=\"dataframe\">\n",
              "  <thead>\n",
              "    <tr style=\"text-align: right;\">\n",
              "      <th></th>\n",
              "      <th>Year</th>\n",
              "      <th>Mileage</th>\n",
              "      <th>M_Camry</th>\n",
              "      <th>M_Camry4dr</th>\n",
              "      <th>M_CamryBase</th>\n",
              "      <th>M_CamryL</th>\n",
              "      <th>M_CamryLE</th>\n",
              "      <th>M_CamrySE</th>\n",
              "      <th>M_CamryXLE</th>\n",
              "      <th>HighPrice</th>\n",
              "    </tr>\n",
              "  </thead>\n",
              "  <tbody>\n",
              "    <tr>\n",
              "      <th>7</th>\n",
              "      <td>2014</td>\n",
              "      <td>6480</td>\n",
              "      <td>0</td>\n",
              "      <td>0</td>\n",
              "      <td>0</td>\n",
              "      <td>1</td>\n",
              "      <td>0</td>\n",
              "      <td>0</td>\n",
              "      <td>0</td>\n",
              "      <td>1</td>\n",
              "    </tr>\n",
              "    <tr>\n",
              "      <th>11</th>\n",
              "      <td>2014</td>\n",
              "      <td>39972</td>\n",
              "      <td>0</td>\n",
              "      <td>0</td>\n",
              "      <td>0</td>\n",
              "      <td>0</td>\n",
              "      <td>1</td>\n",
              "      <td>0</td>\n",
              "      <td>0</td>\n",
              "      <td>0</td>\n",
              "    </tr>\n",
              "    <tr>\n",
              "      <th>167</th>\n",
              "      <td>2016</td>\n",
              "      <td>18989</td>\n",
              "      <td>0</td>\n",
              "      <td>0</td>\n",
              "      <td>0</td>\n",
              "      <td>0</td>\n",
              "      <td>0</td>\n",
              "      <td>1</td>\n",
              "      <td>0</td>\n",
              "      <td>1</td>\n",
              "    </tr>\n",
              "    <tr>\n",
              "      <th>225</th>\n",
              "      <td>2014</td>\n",
              "      <td>51330</td>\n",
              "      <td>0</td>\n",
              "      <td>0</td>\n",
              "      <td>0</td>\n",
              "      <td>1</td>\n",
              "      <td>0</td>\n",
              "      <td>0</td>\n",
              "      <td>0</td>\n",
              "      <td>0</td>\n",
              "    </tr>\n",
              "    <tr>\n",
              "      <th>270</th>\n",
              "      <td>2007</td>\n",
              "      <td>116065</td>\n",
              "      <td>0</td>\n",
              "      <td>1</td>\n",
              "      <td>0</td>\n",
              "      <td>0</td>\n",
              "      <td>0</td>\n",
              "      <td>0</td>\n",
              "      <td>0</td>\n",
              "      <td>0</td>\n",
              "    </tr>\n",
              "  </tbody>\n",
              "</table>\n",
              "</div>\n",
              "      <button class=\"colab-df-convert\" onclick=\"convertToInteractive('df-33f8c094-ec5e-4545-b2a3-2d6413f300f0')\"\n",
              "              title=\"Convert this dataframe to an interactive table.\"\n",
              "              style=\"display:none;\">\n",
              "        \n",
              "  <svg xmlns=\"http://www.w3.org/2000/svg\" height=\"24px\"viewBox=\"0 0 24 24\"\n",
              "       width=\"24px\">\n",
              "    <path d=\"M0 0h24v24H0V0z\" fill=\"none\"/>\n",
              "    <path d=\"M18.56 5.44l.94 2.06.94-2.06 2.06-.94-2.06-.94-.94-2.06-.94 2.06-2.06.94zm-11 1L8.5 8.5l.94-2.06 2.06-.94-2.06-.94L8.5 2.5l-.94 2.06-2.06.94zm10 10l.94 2.06.94-2.06 2.06-.94-2.06-.94-.94-2.06-.94 2.06-2.06.94z\"/><path d=\"M17.41 7.96l-1.37-1.37c-.4-.4-.92-.59-1.43-.59-.52 0-1.04.2-1.43.59L10.3 9.45l-7.72 7.72c-.78.78-.78 2.05 0 2.83L4 21.41c.39.39.9.59 1.41.59.51 0 1.02-.2 1.41-.59l7.78-7.78 2.81-2.81c.8-.78.8-2.07 0-2.86zM5.41 20L4 18.59l7.72-7.72 1.47 1.35L5.41 20z\"/>\n",
              "  </svg>\n",
              "      </button>\n",
              "      \n",
              "  <style>\n",
              "    .colab-df-container {\n",
              "      display:flex;\n",
              "      flex-wrap:wrap;\n",
              "      gap: 12px;\n",
              "    }\n",
              "\n",
              "    .colab-df-convert {\n",
              "      background-color: #E8F0FE;\n",
              "      border: none;\n",
              "      border-radius: 50%;\n",
              "      cursor: pointer;\n",
              "      display: none;\n",
              "      fill: #1967D2;\n",
              "      height: 32px;\n",
              "      padding: 0 0 0 0;\n",
              "      width: 32px;\n",
              "    }\n",
              "\n",
              "    .colab-df-convert:hover {\n",
              "      background-color: #E2EBFA;\n",
              "      box-shadow: 0px 1px 2px rgba(60, 64, 67, 0.3), 0px 1px 3px 1px rgba(60, 64, 67, 0.15);\n",
              "      fill: #174EA6;\n",
              "    }\n",
              "\n",
              "    [theme=dark] .colab-df-convert {\n",
              "      background-color: #3B4455;\n",
              "      fill: #D2E3FC;\n",
              "    }\n",
              "\n",
              "    [theme=dark] .colab-df-convert:hover {\n",
              "      background-color: #434B5C;\n",
              "      box-shadow: 0px 1px 3px 1px rgba(0, 0, 0, 0.15);\n",
              "      filter: drop-shadow(0px 1px 2px rgba(0, 0, 0, 0.3));\n",
              "      fill: #FFFFFF;\n",
              "    }\n",
              "  </style>\n",
              "\n",
              "      <script>\n",
              "        const buttonEl =\n",
              "          document.querySelector('#df-33f8c094-ec5e-4545-b2a3-2d6413f300f0 button.colab-df-convert');\n",
              "        buttonEl.style.display =\n",
              "          google.colab.kernel.accessAllowed ? 'block' : 'none';\n",
              "\n",
              "        async function convertToInteractive(key) {\n",
              "          const element = document.querySelector('#df-33f8c094-ec5e-4545-b2a3-2d6413f300f0');\n",
              "          const dataTable =\n",
              "            await google.colab.kernel.invokeFunction('convertToInteractive',\n",
              "                                                     [key], {});\n",
              "          if (!dataTable) return;\n",
              "\n",
              "          const docLinkHtml = 'Like what you see? Visit the ' +\n",
              "            '<a target=\"_blank\" href=https://colab.research.google.com/notebooks/data_table.ipynb>data table notebook</a>'\n",
              "            + ' to learn more about interactive tables.';\n",
              "          element.innerHTML = '';\n",
              "          dataTable['output_type'] = 'display_data';\n",
              "          await google.colab.output.renderOutput(dataTable, element);\n",
              "          const docLink = document.createElement('div');\n",
              "          docLink.innerHTML = docLinkHtml;\n",
              "          element.appendChild(docLink);\n",
              "        }\n",
              "      </script>\n",
              "    </div>\n",
              "  </div>\n",
              "  "
            ]
          },
          "metadata": {},
          "execution_count": 3
        }
      ],
      "source": [
        "# Importación de librerías\n",
        "%matplotlib inline\n",
        "import pandas as pd\n",
        "\n",
        "# Lectura de la información de archivo .csv\n",
        "data = pd.read_csv('https://raw.githubusercontent.com/albahnsen/MIAD_ML_and_NLP/main/datasets/dataTrain_carListings.zip')\n",
        "\n",
        "# Preprocesamiento de datos para el taller\n",
        "data = data.loc[data['Model'].str.contains('Camry')].drop(['Make', 'State'], axis=1)\n",
        "data = data.join(pd.get_dummies(data['Model'], prefix='M'))\n",
        "data['HighPrice'] = (data['Price'] > data['Price'].mean()).astype(int)\n",
        "data = data.drop(['Model', 'Price'], axis=1)\n",
        "\n",
        "# Visualización dataset\n",
        "data.head()"
      ]
    },
    {
      "cell_type": "code",
      "execution_count": null,
      "metadata": {
        "id": "PWQ3nByhxjps"
      },
      "outputs": [],
      "source": [
        "# Separación de variables predictoras (X) y variable de interés (y)\n",
        "y = data['HighPrice']\n",
        "X = data.drop(['HighPrice'], axis=1)"
      ]
    },
    {
      "cell_type": "code",
      "execution_count": null,
      "metadata": {
        "id": "v1LNy4s0xjpt"
      },
      "outputs": [],
      "source": [
        "# Separación de datos en set de entrenamiento y test\n",
        "from sklearn.model_selection import train_test_split\n",
        "X_train, X_test, y_train, y_test = train_test_split(X, y, test_size=0.33, random_state=42)"
      ]
    },
    {
      "cell_type": "code",
      "execution_count": null,
      "metadata": {
        "colab": {
          "base_uri": "https://localhost:8080/"
        },
        "id": "7RbN-0iuxjpu",
        "outputId": "1bd7d8b5-8885-481a-f349-f2120ec850d3"
      },
      "outputs": [
        {
          "output_type": "stream",
          "name": "stdout",
          "text": [
            "(7031, 9)\n",
            "(3464, 9)\n"
          ]
        }
      ],
      "source": [
        "print(X_train.shape)\n",
        "print(X_test.shape)"
      ]
    },
    {
      "cell_type": "code",
      "execution_count": null,
      "metadata": {
        "colab": {
          "base_uri": "https://localhost:8080/"
        },
        "id": "S8SeFt_Vxjpw",
        "outputId": "d5b44479-666e-4cdb-e83c-3299b423b69c"
      },
      "outputs": [
        {
          "output_type": "execute_result",
          "data": {
            "text/plain": [
              "1    4063\n",
              "0    2968\n",
              "Name: HighPrice, dtype: int64"
            ]
          },
          "metadata": {},
          "execution_count": 7
        }
      ],
      "source": [
        "y_train.value_counts()"
      ]
    },
    {
      "cell_type": "markdown",
      "metadata": {
        "id": "j0-hfWjIxjpx"
      },
      "source": [
        "### Punto 1 - Árbol de decisión manual\n",
        "\n",
        "En la celda 1 creen un árbol de decisión **manualmente**  que considere los set de entrenamiento y test definidos anteriormente y presenten el acurracy del modelo en el set de test."
      ]
    },
    {
      "cell_type": "code",
      "execution_count": null,
      "metadata": {
        "id": "wU6jQMcAxjpy"
      },
      "outputs": [],
      "source": [
        "# Celda 1\n",
        "\n",
        "\n",
        "# Definición de la función que calcula el gini index\n",
        "def gini(y):\n",
        "    if y.shape[0] == 0:\n",
        "        return 0\n",
        "    else:\n",
        "        return 1 - (y.mean()**2 + (1 - y.mean())**2)\n",
        "    \n",
        "# Definición de la función gini_imputiry para calular la ganancia de una variable predictora j dado el punto de corte k\n",
        "def gini_impurity(X_col, y, split):\n",
        "    \n",
        "    filter_l = X_col < split\n",
        "    y_l = y.loc[filter_l]\n",
        "    y_r = y.loc[~filter_l]\n",
        "    \n",
        "    n_l = y_l.shape[0]\n",
        "    n_r = y_r.shape[0]\n",
        "    \n",
        "    gini_y = gini(y)\n",
        "    gini_l = gini(y_l)\n",
        "    gini_r = gini(y_r)\n",
        "    \n",
        "    gini_impurity_ = gini_y - (n_l / (n_l + n_r) * gini_l + n_r / (n_l + n_r) * gini_r)\n",
        "    \n",
        "    return gini_impurity_\n",
        "\n",
        "# Definición de la función best_split para calcular cuál es la mejor variable y punto de cortepara hacer la bifurcación del árbol\n",
        "def best_split(X, y, num_pct=10):\n",
        "    \n",
        "    features = range(X.shape[1])\n",
        "    \n",
        "    best_split = [0, 0, 0]  # j, split, gain\n",
        "    \n",
        "    # Para todas las varibles \n",
        "    for j in features:\n",
        "        \n",
        "        splits = np.percentile(X.iloc[:, j], np.arange(0, 100, 100.0 / (num_pct+1)).tolist())\n",
        "        splits = np.unique(splits)[1:]\n",
        "        \n",
        "        # Para cada partición\n",
        "        for split in splits:\n",
        "            gain = gini_impurity(X.iloc[:, j], y, split)\n",
        "                        \n",
        "            if gain > best_split[2]:\n",
        "                best_split = [j, split, gain]\n",
        "    \n",
        "    return best_split\n",
        "\n",
        "# Definición de la función tree_grow para hacer un crecimiento recursivo del árbol\n",
        "def tree_grow(X, y, level=0, min_gain=0.001, max_depth=None, num_pct=10):\n",
        "    \n",
        "    # Si solo es una observación\n",
        "    if X.shape[0] == 1:\n",
        "        tree = dict(y_pred=y.iloc[:1].values[0], y_prob=0.5, level=level, split=-1, n_samples=1, gain=0)\n",
        "        return tree\n",
        "    \n",
        "    # Calcular la mejor división\n",
        "    j, split, gain = best_split(X, y, num_pct)\n",
        "    \n",
        "    # Guardar el árbol y estimar la predicción\n",
        "    y_pred = int(y.mean() >= 0.5) \n",
        "    y_prob = (y.sum() + 1.0) / (y.shape[0] + 2.0)  # Corrección Laplace \n",
        "    \n",
        "    tree = dict(y_pred=y_pred, y_prob=y_prob, level=level, split=-1, n_samples=X.shape[0], gain=gain)\n",
        "    # Revisar el criterio de parada \n",
        "    if gain < min_gain:\n",
        "        return tree\n",
        "    if max_depth is not None:\n",
        "        if level >= max_depth:\n",
        "            return tree   \n",
        "    \n",
        "    # Continuar creando la partición\n",
        "    filter_l = X.iloc[:, j] < split\n",
        "    X_l, y_l = X.loc[filter_l], y.loc[filter_l]\n",
        "    X_r, y_r = X.loc[~filter_l], y.loc[~filter_l]\n",
        "    tree['split'] = [j, split]\n",
        "\n",
        "    # Siguiente iteración para cada partición\n",
        "    \n",
        "    tree['sl'] = tree_grow(X_l, y_l, level + 1, min_gain=min_gain, max_depth=max_depth, num_pct=num_pct)\n",
        "    tree['sr'] = tree_grow(X_r, y_r, level + 1, min_gain=min_gain, max_depth=max_depth, num_pct=num_pct)\n",
        "    \n",
        "    return tree\n",
        "\n",
        "\n",
        "# Definición de la función tree_predict para hacer predicciones según las variables 'X' y el árbol 'tree'\n",
        "\n",
        "def tree_predict(X, tree, proba=False):\n",
        "    \n",
        "    predicted = np.ones(X.shape[0])\n",
        "\n",
        "    # Revisar si es el nodo final\n",
        "    if tree['split'] == -1:\n",
        "        if not proba:\n",
        "            predicted = predicted * tree['y_pred']\n",
        "        else:\n",
        "            predicted = predicted * tree['y_prob']\n",
        "            \n",
        "    else:\n",
        "        \n",
        "        j, split = tree['split']\n",
        "        filter_l = (X.iloc[:, j] < split)\n",
        "        X_l = X.loc[filter_l]\n",
        "        X_r = X.loc[~filter_l]\n",
        "\n",
        "        if X_l.shape[0] == 0:  # Si el nodo izquierdo está vacio solo continua con el derecho \n",
        "            predicted[~filter_l] = tree_predict(X_r, tree['sr'], proba)\n",
        "        elif X_r.shape[0] == 0:  #  Si el nodo derecho está vacio solo continua con el izquierdo\n",
        "            predicted[filter_l] = tree_predict(X_l, tree['sl'], proba)\n",
        "        else:\n",
        "            predicted[filter_l] = tree_predict(X_l, tree['sl'], proba)\n",
        "            predicted[~filter_l] = tree_predict(X_r, tree['sr'], proba)\n",
        "\n",
        "    return predicted\n"
      ]
    },
    {
      "cell_type": "code",
      "execution_count": null,
      "metadata": {
        "colab": {
          "base_uri": "https://localhost:8080/"
        },
        "id": "O9Ic0B_4xjpz",
        "outputId": "71bbc2c6-ebe2-45a6-ce21-0b8a573333e5"
      },
      "outputs": [
        {
          "output_type": "execute_result",
          "data": {
            "text/plain": [
              "{'gain': 0.2344664960680295,\n",
              " 'level': 0,\n",
              " 'n_samples': 7031,\n",
              " 'sl': {'gain': 0.03387526195829846,\n",
              "  'level': 1,\n",
              "  'n_samples': 4352,\n",
              "  'sl': {'gain': 0.04090195753846798,\n",
              "   'level': 2,\n",
              "   'n_samples': 1383,\n",
              "   'sl': {'gain': 0.0651085063725203,\n",
              "    'level': 3,\n",
              "    'n_samples': 183,\n",
              "    'sl': {'gain': 0.0178444931691685,\n",
              "     'level': 4,\n",
              "     'n_samples': 77,\n",
              "     'sl': {'gain': 0.08172095284394748,\n",
              "      'level': 5,\n",
              "      'n_samples': 22,\n",
              "      'sl': {'gain': 0.1291810841983853,\n",
              "       'level': 6,\n",
              "       'n_samples': 17,\n",
              "       'split': -1,\n",
              "       'y_pred': 0,\n",
              "       'y_prob': 0.15789473684210525},\n",
              "      'split': [2, 1.0],\n",
              "      'sr': {'gain': 0.21333333333333332,\n",
              "       'level': 6,\n",
              "       'n_samples': 5,\n",
              "       'split': -1,\n",
              "       'y_pred': 1,\n",
              "       'y_prob': 0.5714285714285714},\n",
              "      'y_pred': 0,\n",
              "      'y_prob': 0.25},\n",
              "     'split': [1, 35270.28571428571],\n",
              "     'sr': {'gain': 0.0026446280991735197,\n",
              "      'level': 5,\n",
              "      'n_samples': 55,\n",
              "      'sl': {'gain': 0,\n",
              "       'level': 6,\n",
              "       'n_samples': 44,\n",
              "       'split': -1,\n",
              "       'y_pred': 0,\n",
              "       'y_prob': 0.021739130434782608},\n",
              "      'split': [2, 0.7142857142857153],\n",
              "      'sr': {'gain': 0.07438016528925631,\n",
              "       'level': 6,\n",
              "       'n_samples': 11,\n",
              "       'split': -1,\n",
              "       'y_pred': 0,\n",
              "       'y_prob': 0.15384615384615385},\n",
              "      'y_pred': 0,\n",
              "      'y_prob': 0.03508771929824561},\n",
              "     'y_pred': 0,\n",
              "     'y_prob': 0.08860759493670886},\n",
              "    'split': [0, 2012.0],\n",
              "    'sr': {'gain': 0.027713250319159943,\n",
              "     'level': 4,\n",
              "     'n_samples': 106,\n",
              "     'sl': {'gain': 0.07682539682539685,\n",
              "      'level': 5,\n",
              "      'n_samples': 15,\n",
              "      'sl': {'gain': 0.06530612244897971,\n",
              "       'level': 6,\n",
              "       'n_samples': 14,\n",
              "       'split': -1,\n",
              "       'y_pred': 1,\n",
              "       'y_prob': 0.75},\n",
              "      'split': [1, 25371.0],\n",
              "      'sr': {'gain': 0,\n",
              "       'level': 6,\n",
              "       'n_samples': 1,\n",
              "       'split': -1,\n",
              "       'y_pred': 0,\n",
              "       'y_prob': 0.5},\n",
              "      'y_pred': 1,\n",
              "      'y_prob': 0.7058823529411765},\n",
              "     'split': [1, 26482.0],\n",
              "     'sr': {'gain': 0.029624268252728347,\n",
              "      'level': 5,\n",
              "      'n_samples': 91,\n",
              "      'sl': {'gain': 0.021233957180029295,\n",
              "       'level': 6,\n",
              "       'n_samples': 79,\n",
              "       'split': -1,\n",
              "       'y_pred': 0,\n",
              "       'y_prob': 0.4444444444444444},\n",
              "      'split': [7, 1.0],\n",
              "      'sr': {'gain': 0.06944444444444457,\n",
              "       'level': 6,\n",
              "       'n_samples': 12,\n",
              "       'split': -1,\n",
              "       'y_pred': 0,\n",
              "       'y_prob': 0.14285714285714285},\n",
              "      'y_pred': 0,\n",
              "      'y_prob': 0.3978494623655914},\n",
              "     'y_pred': 0,\n",
              "     'y_prob': 0.4444444444444444},\n",
              "    'y_pred': 0,\n",
              "    'y_prob': 0.2918918918918919},\n",
              "   'split': [0, 2013.0],\n",
              "   'sr': {'gain': 0.021414433036647473,\n",
              "    'level': 3,\n",
              "    'n_samples': 1200,\n",
              "    'sl': {'gain': 0.013314883291814905,\n",
              "     'level': 4,\n",
              "     'n_samples': 857,\n",
              "     'sl': {'gain': 0.0033895781930656788,\n",
              "      'level': 5,\n",
              "      'n_samples': 672,\n",
              "      'sl': {'gain': 0.0044269376067063715,\n",
              "       'level': 6,\n",
              "       'n_samples': 559,\n",
              "       'split': -1,\n",
              "       'y_pred': 1,\n",
              "       'y_prob': 0.8003565062388592},\n",
              "      'split': [8, 1.0],\n",
              "      'sr': {'gain': 0.005229078210335636,\n",
              "       'level': 6,\n",
              "       'n_samples': 113,\n",
              "       'split': -1,\n",
              "       'y_pred': 1,\n",
              "       'y_prob': 0.9043478260869565},\n",
              "      'y_pred': 1,\n",
              "      'y_prob': 0.8189910979228486},\n",
              "     'split': [6, 1.0],\n",
              "     'sr': {'gain': 0.054832406991804805,\n",
              "      'level': 5,\n",
              "      'n_samples': 185,\n",
              "      'sl': {'gain': 0.00974654982167486,\n",
              "       'level': 6,\n",
              "       'n_samples': 62,\n",
              "       'split': -1,\n",
              "       'y_pred': 1,\n",
              "       'y_prob': 0.84375},\n",
              "      'split': [1, 22715.0],\n",
              "      'sr': {'gain': 0.007835216012350321,\n",
              "       'level': 6,\n",
              "       'n_samples': 123,\n",
              "       'split': -1,\n",
              "       'y_pred': 1,\n",
              "       'y_prob': 0.504},\n",
              "      'y_pred': 1,\n",
              "      'y_prob': 0.6203208556149733},\n",
              "     'y_pred': 1,\n",
              "     'y_prob': 0.7764842840512224},\n",
              "    'split': [1, 38564.28571428572],\n",
              "    'sr': {'gain': 0.04205296397155078,\n",
              "     'level': 4,\n",
              "     'n_samples': 343,\n",
              "     'sl': {'gain': 0.015070036966629563,\n",
              "      'level': 5,\n",
              "      'n_samples': 267,\n",
              "      'sl': {'gain': 0.02226483315661809,\n",
              "       'level': 6,\n",
              "       'n_samples': 226,\n",
              "       'split': -1,\n",
              "       'y_pred': 1,\n",
              "       'y_prob': 0.5877192982456141},\n",
              "      'split': [8, 1.0],\n",
              "      'sr': {'gain': 0.01487209994051164,\n",
              "       'level': 6,\n",
              "       'n_samples': 41,\n",
              "       'split': -1,\n",
              "       'y_pred': 1,\n",
              "       'y_prob': 0.813953488372093},\n",
              "      'y_pred': 1,\n",
              "      'y_prob': 0.6245353159851301},\n",
              "     'split': [6, 1.0],\n",
              "     'sr': {'gain': 0.011634833310733617,\n",
              "      'level': 5,\n",
              "      'n_samples': 76,\n",
              "      'sl': {'gain': 0.16528925619834722,\n",
              "       'level': 6,\n",
              "       'n_samples': 11,\n",
              "       'split': -1,\n",
              "       'y_pred': 0,\n",
              "       'y_prob': 0.15384615384615385},\n",
              "      'split': [0, 2013.7142857142858],\n",
              "      'sr': {'gain': 0.004850130953535814,\n",
              "       'level': 6,\n",
              "       'n_samples': 65,\n",
              "       'split': -1,\n",
              "       'y_pred': 0,\n",
              "       'y_prob': 0.31343283582089554},\n",
              "      'y_pred': 0,\n",
              "      'y_prob': 0.28205128205128205},\n",
              "     'y_pred': 1,\n",
              "     'y_prob': 0.5478260869565217},\n",
              "    'y_pred': 1,\n",
              "    'y_prob': 0.7113144758735441},\n",
              "   'y_pred': 1,\n",
              "   'y_prob': 0.6555956678700361},\n",
              "  'split': [0, 2015.0],\n",
              "  'sr': {'gain': 0.0069596406850516435,\n",
              "   'level': 2,\n",
              "   'n_samples': 2969,\n",
              "   'sl': {'gain': 0.0002951150107593434,\n",
              "    'level': 3,\n",
              "    'n_samples': 1696,\n",
              "    'split': -1,\n",
              "    'y_pred': 1,\n",
              "    'y_prob': 0.9858657243816255},\n",
              "   'split': [1, 31327.0],\n",
              "   'sr': {'gain': 0.007834375377056613,\n",
              "    'level': 3,\n",
              "    'n_samples': 1273,\n",
              "    'sl': {'gain': 0.0013365427248402117,\n",
              "     'level': 4,\n",
              "     'n_samples': 911,\n",
              "     'sl': {'gain': 0.0014054527492894375,\n",
              "      'level': 5,\n",
              "      'n_samples': 650,\n",
              "      'sl': {'gain': 0.0008255345077430865,\n",
              "       'level': 6,\n",
              "       'n_samples': 581,\n",
              "       'split': -1,\n",
              "       'y_pred': 1,\n",
              "       'y_prob': 0.9125214408233276},\n",
              "      'split': [0, 2017.0],\n",
              "      'sr': {'gain': 0,\n",
              "       'level': 6,\n",
              "       'n_samples': 69,\n",
              "       'split': -1,\n",
              "       'y_pred': 1,\n",
              "       'y_prob': 0.9859154929577465},\n",
              "      'y_pred': 1,\n",
              "      'y_prob': 0.9217791411042945},\n",
              "     'split': [1, 43569.0],\n",
              "     'sr': {'gain': 0.0027830750955780137,\n",
              "      'level': 5,\n",
              "      'n_samples': 261,\n",
              "      'sl': {'gain': 0.00852544584601983,\n",
              "       'level': 6,\n",
              "       'n_samples': 99,\n",
              "       'split': -1,\n",
              "       'y_pred': 1,\n",
              "       'y_prob': 0.8118811881188119},\n",
              "      'split': [0, 2016.0],\n",
              "      'sr': {'gain': 0.0021862758488273015,\n",
              "       'level': 6,\n",
              "       'n_samples': 162,\n",
              "       'split': -1,\n",
              "       'y_pred': 1,\n",
              "       'y_prob': 0.8902439024390244},\n",
              "      'y_pred': 1,\n",
              "      'y_prob': 0.8631178707224335},\n",
              "     'y_pred': 1,\n",
              "     'y_prob': 0.9058050383351588},\n",
              "    'split': [6, 1.0],\n",
              "    'sr': {'gain': 0.009902112320654688,\n",
              "     'level': 4,\n",
              "     'n_samples': 362,\n",
              "     'sl': {'gain': 0.0024090810304078225,\n",
              "      'level': 5,\n",
              "      'n_samples': 310,\n",
              "      'sl': {'gain': 0.005232440375108949,\n",
              "       'level': 6,\n",
              "       'n_samples': 103,\n",
              "       'split': -1,\n",
              "       'y_pred': 1,\n",
              "       'y_prob': 0.7428571428571429},\n",
              "      'split': [0, 2016.0],\n",
              "      'sr': {'gain': 0.004969973059686772,\n",
              "       'level': 6,\n",
              "       'n_samples': 207,\n",
              "       'split': -1,\n",
              "       'y_pred': 1,\n",
              "       'y_prob': 0.8181818181818182},\n",
              "      'y_pred': 1,\n",
              "      'y_prob': 0.7948717948717948},\n",
              "     'split': [1, 46083.57142857143],\n",
              "     'sr': {'gain': 0.043518294891921216,\n",
              "      'level': 5,\n",
              "      'n_samples': 52,\n",
              "      'sl': {'gain': 0,\n",
              "       'level': 6,\n",
              "       'n_samples': 3,\n",
              "       'split': -1,\n",
              "       'y_pred': 0,\n",
              "       'y_prob': 0.2},\n",
              "      'split': [1, 46144.42857142857],\n",
              "      'sr': {'gain': 0.008932089107016317,\n",
              "       'level': 6,\n",
              "       'n_samples': 49,\n",
              "       'split': -1,\n",
              "       'y_pred': 1,\n",
              "       'y_prob': 0.6274509803921569},\n",
              "      'y_pred': 1,\n",
              "      'y_prob': 0.5925925925925926},\n",
              "     'y_pred': 1,\n",
              "     'y_prob': 0.7664835164835165},\n",
              "    'y_pred': 1,\n",
              "    'y_prob': 0.8666666666666667},\n",
              "   'y_pred': 1,\n",
              "   'y_prob': 0.9350387075058902},\n",
              "  'y_pred': 1,\n",
              "  'y_prob': 0.8463481855764814},\n",
              " 'split': [1, 49863.19047619049],\n",
              " 'sr': {'gain': 0.05913376869912987,\n",
              "  'level': 1,\n",
              "  'n_samples': 2679,\n",
              "  'sl': {'gain': 0.004834060101949797,\n",
              "   'level': 2,\n",
              "   'n_samples': 1985,\n",
              "   'sl': {'gain': 0.00014665301973995452,\n",
              "    'level': 3,\n",
              "    'n_samples': 1380,\n",
              "    'split': -1,\n",
              "    'y_pred': 0,\n",
              "    'y_prob': 0.007959479015918957},\n",
              "   'split': [0, 2012.0],\n",
              "   'sr': {'gain': 0.011881112803020122,\n",
              "    'level': 3,\n",
              "    'n_samples': 605,\n",
              "    'sl': {'gain': 0.030206369919288434,\n",
              "     'level': 4,\n",
              "     'n_samples': 231,\n",
              "     'sl': {'gain': 0.002078390888226145,\n",
              "      'level': 5,\n",
              "      'n_samples': 209,\n",
              "      'sl': {'gain': 0.00847018942257044,\n",
              "       'level': 6,\n",
              "       'n_samples': 126,\n",
              "       'split': -1,\n",
              "       'y_pred': 0,\n",
              "       'y_prob': 0.203125},\n",
              "      'split': [3, 1.0],\n",
              "      'sr': {'gain': 0.012542217061015215,\n",
              "       'level': 6,\n",
              "       'n_samples': 83,\n",
              "       'split': -1,\n",
              "       'y_pred': 0,\n",
              "       'y_prob': 0.1411764705882353},\n",
              "      'y_pred': 0,\n",
              "      'y_prob': 0.17535545023696683},\n",
              "     'split': [2, 0.095238095238102],\n",
              "     'sr': {'gain': 0.12551652892561976,\n",
              "      'level': 5,\n",
              "      'n_samples': 22,\n",
              "      'sl': {'gain': 0.09040178571428564,\n",
              "       'level': 6,\n",
              "       'n_samples': 16,\n",
              "       'split': -1,\n",
              "       'y_pred': 0,\n",
              "       'y_prob': 0.4444444444444444},\n",
              "      'split': [0, 2013.0],\n",
              "      'sr': {'gain': 0,\n",
              "       'level': 6,\n",
              "       'n_samples': 6,\n",
              "       'split': -1,\n",
              "       'y_pred': 1,\n",
              "       'y_prob': 0.875},\n",
              "      'y_pred': 1,\n",
              "      'y_prob': 0.5833333333333334},\n",
              "     'y_pred': 0,\n",
              "     'y_prob': 0.2145922746781116},\n",
              "    'split': [1, 72475.47619047618],\n",
              "    'sr': {'gain': 0.003546525013003593,\n",
              "     'level': 4,\n",
              "     'n_samples': 374,\n",
              "     'sl': {'gain': 0.0013607861672212812,\n",
              "      'level': 5,\n",
              "      'n_samples': 343,\n",
              "      'sl': {'gain': 0.0023736856272087298,\n",
              "       'level': 6,\n",
              "       'n_samples': 212,\n",
              "       'split': -1,\n",
              "       'y_pred': 0,\n",
              "       'y_prob': 0.06542056074766354},\n",
              "      'split': [1, 94240.57142857143],\n",
              "      'sr': {'gain': 0.0010578547959820377,\n",
              "       'level': 6,\n",
              "       'n_samples': 131,\n",
              "       'split': -1,\n",
              "       'y_pred': 0,\n",
              "       'y_prob': 0.015037593984962405},\n",
              "      'y_pred': 0,\n",
              "      'y_prob': 0.043478260869565216},\n",
              "     'split': [2, 1.0],\n",
              "     'sr': {'gain': 0.10373809333226622,\n",
              "      'level': 5,\n",
              "      'n_samples': 31,\n",
              "      'sl': {'gain': 0.17396449704142003,\n",
              "       'level': 6,\n",
              "       'n_samples': 13,\n",
              "       'split': -1,\n",
              "       'y_pred': 0,\n",
              "       'y_prob': 0.4666666666666667},\n",
              "      'split': [1, 86554.57142857143],\n",
              "      'sr': {'gain': 0,\n",
              "       'level': 6,\n",
              "       'n_samples': 18,\n",
              "       'split': -1,\n",
              "       'y_pred': 0,\n",
              "       'y_prob': 0.05},\n",
              "      'y_pred': 0,\n",
              "      'y_prob': 0.21212121212121213},\n",
              "     'y_pred': 0,\n",
              "     'y_prob': 0.05585106382978723},\n",
              "    'y_pred': 0,\n",
              "    'y_prob': 0.11532125205930807},\n",
              "   'y_pred': 0,\n",
              "   'y_prob': 0.04026170105686965},\n",
              "  'split': [0, 2014.0],\n",
              "  'sr': {'gain': 0.04255402245972495,\n",
              "   'level': 2,\n",
              "   'n_samples': 694,\n",
              "   'sl': {'gain': 0.02571618110693963,\n",
              "    'level': 3,\n",
              "    'n_samples': 409,\n",
              "    'sl': {'gain': 0.027285727436865415,\n",
              "     'level': 4,\n",
              "     'n_samples': 331,\n",
              "     'sl': {'gain': 0.024829685712704053,\n",
              "      'level': 5,\n",
              "      'n_samples': 221,\n",
              "      'sl': {'gain': 0.025988479418947164,\n",
              "       'level': 6,\n",
              "       'n_samples': 189,\n",
              "       'split': -1,\n",
              "       'y_pred': 0,\n",
              "       'y_prob': 0.4031413612565445},\n",
              "      'split': [8, 0.5714285714285552],\n",
              "      'sr': {'gain': 0.022654362922705285,\n",
              "       'level': 6,\n",
              "       'n_samples': 32,\n",
              "       'split': -1,\n",
              "       'y_pred': 1,\n",
              "       'y_prob': 0.7058823529411765},\n",
              "      'y_pred': 0,\n",
              "      'y_prob': 0.4484304932735426},\n",
              "     'split': [1, 70974.00000000001],\n",
              "     'sr': {'gain': 0.009377289377289155,\n",
              "      'level': 5,\n",
              "      'n_samples': 110,\n",
              "      'sl': {'gain': 0.014509970654928761,\n",
              "       'level': 6,\n",
              "       'n_samples': 84,\n",
              "       'split': -1,\n",
              "       'y_pred': 0,\n",
              "       'y_prob': 0.2441860465116279},\n",
              "      'split': [1, 92218.23809523809],\n",
              "      'sr': {'gain': 0.007213299520991673,\n",
              "       'level': 6,\n",
              "       'n_samples': 26,\n",
              "       'split': -1,\n",
              "       'y_pred': 0,\n",
              "       'y_prob': 0.10714285714285714},\n",
              "      'y_pred': 0,\n",
              "      'y_prob': 0.20535714285714285},\n",
              "     'y_pred': 0,\n",
              "     'y_prob': 0.3663663663663664},\n",
              "    'split': [6, 0.2857142857142776],\n",
              "    'sr': {'gain': 0.0027760700837621832,\n",
              "     'level': 4,\n",
              "     'n_samples': 78,\n",
              "     'sl': {'gain': 0.03099173553719009,\n",
              "      'level': 5,\n",
              "      'n_samples': 22,\n",
              "      'sl': {'gain': 0,\n",
              "       'level': 6,\n",
              "       'n_samples': 10,\n",
              "       'split': -1,\n",
              "       'y_pred': 0,\n",
              "       'y_prob': 0.08333333333333333},\n",
              "      'split': [1, 50985.0],\n",
              "      'sr': {'gain': 0.10227272727272718,\n",
              "       'level': 6,\n",
              "       'n_samples': 12,\n",
              "       'split': -1,\n",
              "       'y_pred': 0,\n",
              "       'y_prob': 0.2857142857142857},\n",
              "      'y_pred': 0,\n",
              "      'y_prob': 0.16666666666666666},\n",
              "     'split': [1, 55050.0],\n",
              "     'sr': {'gain': 0.00344387755102038,\n",
              "      'level': 5,\n",
              "      'n_samples': 56,\n",
              "      'sl': {'gain': 0,\n",
              "       'level': 6,\n",
              "       'n_samples': 21,\n",
              "       'split': -1,\n",
              "       'y_pred': 0,\n",
              "       'y_prob': 0.043478260869565216},\n",
              "      'split': [1, 68802.61904761905],\n",
              "      'sr': {'gain': 0.02080395794681522,\n",
              "       'level': 6,\n",
              "       'n_samples': 35,\n",
              "       'split': -1,\n",
              "       'y_pred': 0,\n",
              "       'y_prob': 0.10810810810810811},\n",
              "      'y_pred': 0,\n",
              "      'y_prob': 0.06896551724137931},\n",
              "     'y_pred': 0,\n",
              "     'y_prob': 0.0875},\n",
              "    'y_pred': 0,\n",
              "    'y_prob': 0.31143552311435524},\n",
              "   'split': [0, 2015.0],\n",
              "   'sr': {'gain': 0.033580801138119454,\n",
              "    'level': 3,\n",
              "    'n_samples': 285,\n",
              "    'sl': {'gain': 0.0077394186349355465,\n",
              "     'level': 4,\n",
              "     'n_samples': 136,\n",
              "     'sl': {'gain': 0.009551036444970407,\n",
              "      'level': 5,\n",
              "      'n_samples': 93,\n",
              "      'sl': {'gain': 0.007000486144871393,\n",
              "       'level': 6,\n",
              "       'n_samples': 22,\n",
              "       'split': -1,\n",
              "       'y_pred': 1,\n",
              "       'y_prob': 0.875},\n",
              "      'split': [1, 50684.857142857145],\n",
              "      'sr': {'gain': 0.020830462071112166,\n",
              "       'level': 6,\n",
              "       'n_samples': 71,\n",
              "       'split': -1,\n",
              "       'y_pred': 1,\n",
              "       'y_prob': 0.7397260273972602},\n",
              "      'y_pred': 1,\n",
              "      'y_prob': 0.7789473684210526},\n",
              "     'split': [6, 1.0],\n",
              "     'sr': {'gain': 0.018253109789075128,\n",
              "      'level': 5,\n",
              "      'n_samples': 43,\n",
              "      'sl': {'gain': 0.04111842105263169,\n",
              "       'level': 6,\n",
              "       'n_samples': 40,\n",
              "       'split': -1,\n",
              "       'y_pred': 1,\n",
              "       'y_prob': 0.6190476190476191},\n",
              "      'split': [1, 55500.0],\n",
              "      'sr': {'gain': 0,\n",
              "       'level': 6,\n",
              "       'n_samples': 3,\n",
              "       'split': -1,\n",
              "       'y_pred': 1,\n",
              "       'y_prob': 0.8},\n",
              "      'y_pred': 1,\n",
              "      'y_prob': 0.6444444444444445},\n",
              "     'y_pred': 1,\n",
              "     'y_prob': 0.7391304347826086},\n",
              "    'split': [1, 56455.2380952381],\n",
              "    'sr': {'gain': 0.05930904398315778,\n",
              "     'level': 4,\n",
              "     'n_samples': 149,\n",
              "     'sl': {'gain': 0.0613753135120656,\n",
              "      'level': 5,\n",
              "      'n_samples': 117,\n",
              "      'sl': {'gain': 0.02953722286417043,\n",
              "       'level': 6,\n",
              "       'n_samples': 108,\n",
              "       'split': -1,\n",
              "       'y_pred': 0,\n",
              "       'y_prob': 0.34545454545454546},\n",
              "      'split': [2, 1.0],\n",
              "      'sr': {'gain': 0,\n",
              "       'level': 6,\n",
              "       'n_samples': 9,\n",
              "       'split': -1,\n",
              "       'y_pred': 1,\n",
              "       'y_prob': 0.9090909090909091},\n",
              "      'y_pred': 0,\n",
              "      'y_prob': 0.3949579831932773},\n",
              "     'split': [8, 1.0],\n",
              "     'sr': {'gain': 0.015004960317460347,\n",
              "      'level': 5,\n",
              "      'n_samples': 32,\n",
              "      'sl': {'gain': 0.03780864197530864,\n",
              "       'level': 6,\n",
              "       'n_samples': 18,\n",
              "       'split': -1,\n",
              "       'y_pred': 1,\n",
              "       'y_prob': 0.85},\n",
              "      'split': [1, 67472.0],\n",
              "      'sr': {'gain': 0.17006802721088446,\n",
              "       'level': 6,\n",
              "       'n_samples': 14,\n",
              "       'split': -1,\n",
              "       'y_pred': 1,\n",
              "       'y_prob': 0.6875},\n",
              "      'y_pred': 1,\n",
              "      'y_prob': 0.7941176470588235},\n",
              "     'y_pred': 0,\n",
              "     'y_prob': 0.48344370860927155},\n",
              "    'y_pred': 1,\n",
              "    'y_prob': 0.6062717770034843},\n",
              "   'y_pred': 0,\n",
              "   'y_prob': 0.4324712643678161},\n",
              "  'y_pred': 0,\n",
              "  'y_prob': 0.14173815740395374},\n",
              " 'y_pred': 1,\n",
              " 'y_prob': 0.5778472913408218}"
            ]
          },
          "metadata": {},
          "execution_count": 9
        }
      ],
      "source": [
        "tree = tree_grow(X_train, y_train, level=0, min_gain=0.001, max_depth=6, num_pct=20)\n",
        "tree"
      ]
    },
    {
      "cell_type": "code",
      "execution_count": null,
      "metadata": {
        "colab": {
          "base_uri": "https://localhost:8080/"
        },
        "id": "wcnwXVLHxjp0",
        "outputId": "f01433ba-015c-4fed-b410-27c2d6b84430"
      },
      "outputs": [
        {
          "output_type": "stream",
          "name": "stdout",
          "text": [
            "Decision Tree Classifier - Manualmente\n",
            "Accuracy: 0.8848152424942263\n",
            "F1_score: 0.9043394869335891\n"
          ]
        }
      ],
      "source": [
        "y_predict = tree_predict(X_test, tree)\n",
        "\n",
        "print(\"Decision Tree Classifier - Manualmente\")\n",
        "print(f'Accuracy: {accuracy_score(y_test.values, y_predict)}')\n",
        "print(f\"F1_score: {f1_score(y_test.values, y_predict)}\")\n"
      ]
    },
    {
      "cell_type": "code",
      "execution_count": null,
      "metadata": {
        "id": "EaglmvlGxjp0",
        "outputId": "bfa6a652-650e-45a5-a1c8-69e0af0f2e8c"
      },
      "outputs": [
        {
          "name": "stdout",
          "output_type": "stream",
          "text": [
            "Fitting 5 folds for each of 29 candidates, totalling 145 fits\n",
            "Calibracion del max_depth Decision Tree usando GridSearch\n",
            "Best params: {'max_depth': 6}\n",
            "Best estimator: DecisionTreeClassifier(max_depth=6)\n"
          ]
        }
      ],
      "source": [
        "## Árbol de decisión con sklearn + calibracion de max_depth\n",
        "\n",
        "param = {'max_depth': np.arange(1, 30)}\n",
        "\n",
        "\n",
        "grid_search=GridSearchCV(estimator=DecisionTreeClassifier(),param_grid=param,cv=5,n_jobs=-1,verbose=2, scoring='accuracy')\n",
        "grid_search.fit(X_train.values, y_train.values)\n",
        "\n",
        "print(\"Calibracion del max_depth Decision Tree usando GridSearch\")\n",
        "print(f'Best params: {grid_search.best_params_}')\n",
        "print(f'Best estimator: {grid_search.best_estimator_}')"
      ]
    },
    {
      "cell_type": "code",
      "execution_count": null,
      "metadata": {
        "id": "Yidt5xvIxjp2",
        "outputId": "ed404690-1fa3-40fa-92ff-295ecf03aff0"
      },
      "outputs": [
        {
          "name": "stdout",
          "output_type": "stream",
          "text": [
            "Decision Tree Classifier\n",
            "Accuracy: 0.8833718244803695\n",
            "F1_score: 0.9033955045432808\n"
          ]
        }
      ],
      "source": [
        "clf = DecisionTreeClassifier(max_depth=6, random_state=1)\n",
        "clf.fit(X_train.values, y_train.values)\n",
        "\n",
        "y_predict = clf.predict(X_test.values)\n",
        "\n",
        "print(\"Decision Tree Classifier\")\n",
        "print(f'Accuracy: {accuracy_score(y_test.values, y_predict)}')\n",
        "print(f\"F1_score: {f1_score(y_test.values, y_predict)}\")"
      ]
    },
    {
      "cell_type": "markdown",
      "source": [
        "El acurracy del modelo en el set de test es de 0.883."
      ],
      "metadata": {
        "id": "YUxCVrgw1weI"
      }
    },
    {
      "cell_type": "markdown",
      "metadata": {
        "id": "XRPWpOaaxjp3"
      },
      "source": [
        "### Punto 2 - Bagging manual\n",
        "\n",
        "En la celda 2 creen un modelo bagging **manualmente** con 10 árboles de clasificación y comenten sobre el desempeño del modelo."
      ]
    },
    {
      "cell_type": "code",
      "execution_count": null,
      "metadata": {
        "id": "AYR4dW4dxjp4"
      },
      "outputs": [],
      "source": [
        "# Celda 2\n",
        "\n",
        "def get_idx_bootstrap_sample(max_samples, X):\n",
        "    n_samples = X.shape[0]\n",
        "    if max_samples is None:\n",
        "        return np.random.choice(a=n_samples, size=n_samples, replace=True)\n",
        "    else:\n",
        "        return np.random.choice(a=n_samples, size=max_samples, replace=True)\n",
        "    "
      ]
    },
    {
      "cell_type": "code",
      "execution_count": null,
      "metadata": {
        "id": "5oGfk8LZxjp5"
      },
      "outputs": [],
      "source": [
        "n_estimators = 10\n",
        "\n",
        "np.random.seed(123) \n",
        "seeds = np.random.randint(1, 10000, size=n_estimators)\n",
        "\n",
        "models = {}\n",
        "max_samples = None\n",
        "\n",
        "for i in range(n_estimators):\n",
        "\n",
        "    #bootstrap\n",
        "    idx = get_idx_bootstrap_sample(max_samples, X_train)\n",
        "\n",
        "    #models\n",
        "    models[i] = DecisionTreeClassifier(max_depth=6, random_state=seeds[i])\n",
        "    models[i].fit(X_train.iloc[idx], y_train.iloc[idx])"
      ]
    },
    {
      "cell_type": "code",
      "execution_count": null,
      "metadata": {
        "id": "LMicczCdxjp5",
        "outputId": "4e14532c-0bf5-4351-93d7-9b95aebde1cf"
      },
      "outputs": [
        {
          "name": "stdout",
          "output_type": "stream",
          "text": [
            "Model 0 Accuracy=0.8793302540415704, F1=0.898691226369365\n",
            "Model 1 Accuracy=0.8839491916859122, F1=0.9036433365292427\n",
            "Model 2 Accuracy=0.875866050808314, F1=0.8945561549779304\n",
            "Model 3 Accuracy=0.8859699769053118, F1=0.9054797798516392\n",
            "Model 4 Accuracy=0.8804849884526559, F1=0.9016627078384798\n",
            "Model 5 Accuracy=0.8816397228637414, F1=0.9005819592628516\n",
            "Model 6 Accuracy=0.8793302540415704, F1=0.898838334946757\n",
            "Model 7 Accuracy=0.8680715935334873, F1=0.8902233965889983\n",
            "Model 8 Accuracy=0.8773094688221709, F1=0.8958588581230091\n",
            "Model 9 Accuracy=0.8825057736720554, F1=0.9012375636981317\n"
          ]
        }
      ],
      "source": [
        "accuracys = []\n",
        "f1s = []\n",
        "for i in range(n_estimators):\n",
        "    y_predict = models[i].predict(X_test.values)\n",
        "    acc = accuracy_score(y_test.values, y_predict)\n",
        "    f1 = f1_score(y_test.values, y_predict)\n",
        "    accuracys.append(acc)\n",
        "    f1s.append(f1)\n",
        "    print(f'Model {i} Accuracy={acc}, F1={f1}')"
      ]
    },
    {
      "cell_type": "code",
      "execution_count": null,
      "metadata": {
        "id": "Bq4r_nAYxjp6",
        "outputId": "b9063b56-2b2d-46a8-d2ed-4a9808d1b2a9"
      },
      "outputs": [
        {
          "name": "stdout",
          "output_type": "stream",
          "text": [
            "Ensamble Classifier\n",
            "Accuracy: 0.8874133949191686\n",
            "F1_score: 0.906653901388224\n"
          ]
        }
      ],
      "source": [
        "#predict dataframe\n",
        "y_pred_df = pd.DataFrame(index=X_test.index, columns=list(range(n_estimators)))\n",
        "for i in range(n_estimators):\n",
        "    y_pred_df.iloc[:, i] = models[i].predict(X_test.values)\n",
        "\n",
        "# Votación mayoritaria\n",
        "y_pred = (y_pred_df.sum(axis=1) >= (n_estimators / 2)).astype(np.int)\n",
        "\n",
        "# Desempeño al hacer votación mayoritaria\n",
        "print(\"Ensamble Classifier\")\n",
        "print(f'Accuracy: {accuracy_score(y_test.values, y_pred)}')\n",
        "print(f\"F1_score: {f1_score(y_test.values, y_pred)}\")"
      ]
    },
    {
      "cell_type": "markdown",
      "source": [
        "El accuracy del modelo bagging manual con 10 árboles de clasificación es de 0.887, lo que muestra un mejor desempeño que el modelo del punto anterior."
      ],
      "metadata": {
        "id": "hoCuGVtS17GG"
      }
    },
    {
      "cell_type": "markdown",
      "metadata": {
        "id": "vmUGENzjxjp6"
      },
      "source": [
        "### Punto 3 - Bagging con librería\n",
        "\n",
        "En la celda 3, con la librería sklearn, entrenen un modelo bagging con 10 árboles de clasificación y el parámetro `max_features` igual a `log(n_features)`. Presenten el acurracy del modelo en el set de test y comenten sus resultados."
      ]
    },
    {
      "cell_type": "code",
      "execution_count": null,
      "metadata": {
        "id": "4EZki5sVxjp7",
        "outputId": "7074c6b9-9306-4d0b-ff63-4d4c6343fb18"
      },
      "outputs": [
        {
          "name": "stdout",
          "output_type": "stream",
          "text": [
            "Bagging Classifier\n",
            "Accuracy: 0.8801963048498845\n",
            "F1_score: 0.9036452286974692\n"
          ]
        }
      ],
      "source": [
        "# Celda 3\n",
        "\n",
        "clf = BaggingClassifier(base_estimator=DecisionTreeClassifier(max_depth=6), max_features=int(np.log2(X_train.shape[1])),n_estimators=10, bootstrap=True,\n",
        "                        random_state=1, n_jobs=-1, oob_score=True)\n",
        "\n",
        "clf.fit(X_train.values, y_train.values)\n",
        "\n",
        "y_predict = clf.predict(X_test.values)\n",
        "\n",
        "print(\"Bagging Classifier\")\n",
        "print(f'Accuracy: {accuracy_score(y_test.values, y_predict)}')\n",
        "print(f\"F1_score: {f1_score(y_test.values, y_predict)}\")\n"
      ]
    },
    {
      "cell_type": "markdown",
      "source": [
        "El accuracy del modelo bagging con 10 árboles de clasificación y max_features igual a log(n_features) es de 0.880, lo que muestra un peor desempeño que el bagging manual estimado con el total de features."
      ],
      "metadata": {
        "id": "aSlrPm0U2jUi"
      }
    },
    {
      "cell_type": "markdown",
      "metadata": {
        "id": "OCJBqm60xjp7"
      },
      "source": [
        "### Punto 4 - Random forest con librería\n",
        "\n",
        "En la celda 4, usando la librería sklearn entrenen un modelo de Randon Forest para clasificación y presenten el acurracy del modelo en el set de test y comenten sus resultados."
      ]
    },
    {
      "cell_type": "code",
      "execution_count": null,
      "metadata": {
        "colab": {
          "base_uri": "https://localhost:8080/"
        },
        "id": "ffi3YX2Hxjp8",
        "outputId": "f0fa190a-ef04-4b31-facf-895fc1972718"
      },
      "outputs": [
        {
          "output_type": "stream",
          "name": "stdout",
          "text": [
            "RandomForest Classifier\n",
            "Accuracy: 0.8429561200923787\n",
            "F1_score: 0.8660758247168884\n"
          ]
        }
      ],
      "source": [
        "# Celda 4\n",
        "clf = RandomForestClassifier(max_depth=None, max_features='sqrt', n_estimators=100, random_state=1)\n",
        "clf.fit(X_train.values, y_train.values)\n",
        "\n",
        "y_predict = clf.predict(X_test.values)\n",
        "\n",
        "print(\"RandomForest Classifier\")\n",
        "print(f'Accuracy: {accuracy_score(y_test.values, y_predict)}')\n",
        "print(f\"F1_score: {f1_score(y_test.values, y_predict)}\")\n",
        "\n",
        "a1 = accuracy_score(y_test.values, y_predict)"
      ]
    },
    {
      "cell_type": "markdown",
      "source": [
        "El accuracy del modelo Random Forest para clasificación es de 0.84, lo que muestra un peor desempeño que los modelos estimados anteriormente."
      ],
      "metadata": {
        "id": "-NsV6kwF3RCw"
      }
    },
    {
      "cell_type": "markdown",
      "metadata": {
        "id": "Y8I7WqZvxjp8"
      },
      "source": [
        "### Punto 5 - Calibración de parámetros Random forest\n",
        "\n",
        "En la celda 5, calibren los parámetros max_depth, max_features y n_estimators del modelo de Randon Forest para clasificación. Presenten el acurracy del modelo en el set de test, comenten sus resultados y análicen cómo cada parámetro afecta el modelo."
      ]
    },
    {
      "cell_type": "code",
      "execution_count": null,
      "metadata": {
        "scrolled": true,
        "id": "GMB9PC-Jxjp9",
        "outputId": "6b0e0fb8-6aa9-4105-f6ca-e636199089b0"
      },
      "outputs": [
        {
          "name": "stdout",
          "output_type": "stream",
          "text": [
            "best max_depth= 7\n"
          ]
        },
        {
          "data": {
            "image/png": "[encoded data removed]",
            "text/plain": [
              "<Figure size 432x288 with 1 Axes>"
            ]
          },
          "metadata": {
            "needs_background": "light"
          },
          "output_type": "display_data"
        }
      ],
      "source": [
        "# Calibracion secuencial\n",
        "\n",
        "max_depth_range = np.arange(1, 20)\n",
        "\n",
        "accuracy_scores_max_depth = []\n",
        "\n",
        "for i in max_depth_range:\n",
        "    clf = RandomForestClassifier(max_depth=i, random_state=1, n_jobs=-1)\n",
        "    accuracy_scores_max_depth.append(cross_val_score(clf, X_train, y_train, cv=5, scoring='accuracy').mean())\n",
        "\n",
        "    \n",
        "plt.plot(max_depth_range, accuracy_scores_max_depth)\n",
        "plt.xlabel('max_depth')\n",
        "plt.ylabel('Accuracy')\n",
        "\n",
        "print(f'best max_depth= {max_depth_range[np.argmax(accuracy_scores_max_depth)]}')"
      ]
    },
    {
      "cell_type": "code",
      "execution_count": null,
      "metadata": {
        "id": "F6bhVucDxjp9",
        "outputId": "4248167c-7618-4b7e-90ca-ec337f01ab50"
      },
      "outputs": [
        {
          "name": "stdout",
          "output_type": "stream",
          "text": [
            "best n_estimators= 81\n"
          ]
        },
        {
          "data": {
            "image/png": "[encoded data removed]",
            "text/plain": [
              "<Figure size 432x288 with 1 Axes>"
            ]
          },
          "metadata": {
            "needs_background": "light"
          },
          "output_type": "display_data"
        }
      ],
      "source": [
        "\n",
        "n_estimators_range = range(10, 200)\n",
        "\n",
        "accuracy_scores_estimators = []\n",
        "\n",
        "for i in n_estimators_range:\n",
        "    clf = RandomForestClassifier(max_depth=7,n_estimators=i, random_state=1, n_jobs=-1)\n",
        "    accuracy_scores_estimators.append(cross_val_score(clf, X_train, y_train, cv=5, scoring='accuracy').mean())\n",
        "    \n",
        "\n",
        "plt.plot(n_estimators_range, accuracy_scores_estimators)\n",
        "plt.xlabel('n_estimators')\n",
        "plt.ylabel('Accuracy')\n",
        "\n",
        "print(f'best n_estimators= {n_estimators_range[np.argmax(accuracy_scores_estimators)]}')"
      ]
    },
    {
      "cell_type": "code",
      "execution_count": null,
      "metadata": {
        "id": "1UnwRsAixjp-",
        "outputId": "1ce8dcaa-16e2-41bc-e517-3303b02a1b21"
      },
      "outputs": [
        {
          "name": "stdout",
          "output_type": "stream",
          "text": [
            "best max_features= 3\n"
          ]
        },
        {
          "data": {
            "image/png": "[encoded data removed]",
            "text/plain": [
              "<Figure size 432x288 with 1 Axes>"
            ]
          },
          "metadata": {
            "needs_background": "light"
          },
          "output_type": "display_data"
        }
      ],
      "source": [
        "feature_range = range(1, X_train.shape[1] + 1)\n",
        "\n",
        "accuracy_scores_features = []\n",
        "\n",
        "for feature in feature_range:\n",
        "    clf = RandomForestClassifier(n_estimators=81, max_depth=7, max_features=feature, random_state=1, n_jobs=-1)\n",
        "    accuracy_scores_features.append(cross_val_score(clf, X_train, y_train, cv=5, scoring='accuracy').mean())\n",
        "    \n",
        "plt.plot(feature_range, accuracy_scores_features)\n",
        "plt.xlabel('max_features')\n",
        "plt.ylabel('Accuracy')\n",
        "\n",
        "print(f'best max_features= {feature_range[np.argmax(accuracy_scores_features)]}')"
      ]
    },
    {
      "cell_type": "code",
      "execution_count": null,
      "metadata": {
        "colab": {
          "base_uri": "https://localhost:8080/"
        },
        "id": "sGN5X0-axjp_",
        "outputId": "4cc502a0-e992-4094-96bf-ffdde8963d01"
      },
      "outputs": [
        {
          "output_type": "stream",
          "name": "stdout",
          "text": [
            "RandomForest Classifier - Calibrado\n",
            "Accuracy: 0.8871247113163973\n",
            "F1_score: 0.9066157153092906\n"
          ]
        }
      ],
      "source": [
        "clf = RandomForestClassifier(max_depth=7, max_features=3, n_estimators=81, random_state=1)\n",
        "clf.fit(X_train.values, y_train.values)\n",
        "\n",
        "y_predict = clf.predict(X_test.values)\n",
        "\n",
        "print(\"RandomForest Classifier - Calibrado\")\n",
        "print(f'Accuracy: {accuracy_score(y_test.values, y_predict)}')\n",
        "print(f\"F1_score: {f1_score(y_test.values, y_predict)}\")\n",
        "\n",
        "a2 = accuracy_score(y_test.values, y_predict)"
      ]
    },
    {
      "cell_type": "code",
      "execution_count": null,
      "metadata": {
        "id": "cT8GANxXxjp_",
        "outputId": "22b17fa5-3623-489e-f9d6-b5e698306520"
      },
      "outputs": [
        {
          "name": "stdout",
          "output_type": "stream",
          "text": [
            "Fitting 5 folds for each of 100 candidates, totalling 500 fits\n",
            "Calibracion de RandomForest\n",
            "Best estimator: RandomForestClassifier(max_depth=6, max_features=3, n_estimators=142)\n"
          ]
        }
      ],
      "source": [
        "# calibracion con RandomizedSearchCV\n",
        "param = {'max_depth': np.arange(1, 40),\n",
        "        'n_estimators': np.arange(10, 200),\n",
        "        'max_features': ['sqrt', 2, 3, 4, 5, 6]}\n",
        "\n",
        "bc_gs = RandomizedSearchCV(RandomForestClassifier(), param, n_iter=100, cv=5, verbose=2, random_state=100,n_jobs=-1, scoring='accuracy')\n",
        "bc_gs.fit(X_train.values, y_train.values)\n",
        "\n",
        "print(\"Calibracion de RandomForest\")\n",
        "print(f'Best estimator: {bc_gs.best_estimator_}')"
      ]
    },
    {
      "cell_type": "code",
      "execution_count": null,
      "metadata": {
        "id": "3mDBxZwJxjqA",
        "outputId": "7752569f-efcb-4a9d-d15e-479331d764e1"
      },
      "outputs": [
        {
          "name": "stdout",
          "output_type": "stream",
          "text": [
            "RandomForest Classifier - Calibrado con RandomizedSearchCV\n",
            "Accuracy: 0.8877020785219399\n",
            "F1_score: 0.9067816918284208\n"
          ]
        }
      ],
      "source": [
        "y_predict = bc_gs.predict(X_test.values)\n",
        "\n",
        "print(\"RandomForest Classifier - Calibrado con RandomizedSearchCV\")\n",
        "print(f'Accuracy: {accuracy_score(y_test.values, y_predict)}')\n",
        "print(f\"F1_score: {f1_score(y_test.values, y_predict)}\")"
      ]
    },
    {
      "cell_type": "markdown",
      "source": [
        "Al calibrar los parámetros max_features, n_estimators y max_depth se encontraron los siguientes valores óptimos: \n",
        "\n",
        "* max_depth: 7. Se observa que el accuracy aumenta hasta una profundidad de 7 y a partir de este valor, el accuracy disminuye con cada aumento en la profundidad. \n",
        "* n_estimators: 81. Se observa que el accuracy logra su mayor valor cuando el número de estimadores es igual a 81, a partir de este punto parece que el accuracy logra una relativa estabilidad sin grandes cambios ante aumentos en el número de estimadores.\n",
        "* max_features: 3. Se observa que el accuracy logra su mayor valor cuando el número de variables es igual a 3, a partir de este punto el accuracy se ve afectado negativamente ante aumentos en el número de variables. Esto muestra que no necesariamente el valor por defecto o todas las variables garantizan el mejor desempeño del modelo.\n",
        "\n",
        "El accuracy del Random Forest para clasificación con estos parámetros es de 0.888."
      ],
      "metadata": {
        "id": "36Od9wWG31lw"
      }
    },
    {
      "cell_type": "markdown",
      "metadata": {
        "id": "KyVRqjsGxjqA"
      },
      "source": [
        "### Punto 6 - XGBoost con librería\n",
        "\n",
        "En la celda 6 implementen un modelo XGBoost de clasificación con la librería sklearn, presenten el acurracy del modelo en el set de test y comenten sus resultados."
      ]
    },
    {
      "cell_type": "code",
      "execution_count": null,
      "metadata": {
        "colab": {
          "base_uri": "https://localhost:8080/"
        },
        "id": "blpQQ9WLxjqB",
        "outputId": "91f4a41b-e30c-4f7a-9c72-a03c45ccef7c"
      },
      "outputs": [
        {
          "output_type": "stream",
          "name": "stdout",
          "text": [
            "XGBoost classifier\n",
            "Accuracy: 0.8877020785219399\n",
            "F1_score: 0.9070045421945971\n"
          ]
        }
      ],
      "source": [
        "# Celda 6\n",
        "from xgboost import XGBClassifier\n",
        "clf = XGBClassifier(eval_metric='logloss', random_state=1)\n",
        "clf.fit(X_train.values, y_train.values)\n",
        "\n",
        "y_predict = clf.predict(X_test.values)\n",
        "\n",
        "print(\"XGBoost classifier\")\n",
        "print(f'Accuracy: {accuracy_score(y_test.values, y_predict)}')\n",
        "print(f\"F1_score: {f1_score(y_test.values, y_predict)}\")\n",
        "\n",
        "a3 = accuracy_score(y_test.values, y_predict)"
      ]
    },
    {
      "cell_type": "markdown",
      "source": [
        "El modelo XGBoost tiene un accuracy de 0.887, lo que muestra un desempeño cercano al modelo estimado por Random Forest con parámetros calibrados."
      ],
      "metadata": {
        "id": "nCumO87473Yx"
      }
    },
    {
      "cell_type": "markdown",
      "metadata": {
        "id": "dreajGqyxjqB"
      },
      "source": [
        "### Punto 7 - Calibración de parámetros XGBoost\n",
        "\n",
        "En la celda 7 calibren los parámetros learning rate, gamma y colsample_bytree del modelo XGBoost para clasificación. Presenten el acurracy del modelo en el set de test, comenten sus resultados y análicen cómo cada parámetro afecta el modelo."
      ]
    },
    {
      "cell_type": "code",
      "execution_count": null,
      "metadata": {
        "id": "NMKWoxVPxjqB",
        "outputId": "1779a9cc-b396-4522-da84-a84eaff50ca0"
      },
      "outputs": [
        {
          "name": "stdout",
          "output_type": "stream",
          "text": [
            "best eta= 0.041666666666666664\n"
          ]
        },
        {
          "data": {
            "image/png": "[encoded data removed]",
            "text/plain": [
              "<Figure size 432x288 with 1 Axes>"
            ]
          },
          "metadata": {
            "needs_background": "light"
          },
          "output_type": "display_data"
        }
      ],
      "source": [
        "# Calibracion secuencial\n",
        "\n",
        "eta_range = np.linspace(0, 1, 25)\n",
        "\n",
        "accuracy_scores = []\n",
        "\n",
        "for i in eta_range:\n",
        "    clf = XGBClassifier(eta=i, eval_metric='logloss')\n",
        "    accuracy_scores.append(cross_val_score(clf, X_train, y_train, cv=5, scoring='accuracy').mean())\n",
        "    \n",
        "\n",
        "plt.plot(eta_range, accuracy_scores)\n",
        "plt.xlabel('learning rate')\n",
        "plt.ylabel('Accuracy')\n",
        "\n",
        "print(f'best eta= {eta_range[np.argmax(accuracy_scores)]}')"
      ]
    },
    {
      "cell_type": "code",
      "execution_count": null,
      "metadata": {
        "id": "W9WwKc8HxjqC",
        "outputId": "60c09165-26cd-48ac-814e-49b201e94fd7"
      },
      "outputs": [
        {
          "name": "stdout",
          "output_type": "stream",
          "text": [
            "best colsample_bytree= 0.4\n"
          ]
        },
        {
          "data": {
            "image/png": "[encoded data removed]",
            "text/plain": [
              "<Figure size 432x288 with 1 Axes>"
            ]
          },
          "metadata": {
            "needs_background": "light"
          },
          "output_type": "display_data"
        }
      ],
      "source": [
        "colsample_bytree_range = [ 0.3, 0.4, 0.5 , 0.7 ]\n",
        "\n",
        "accuracy_scores = []\n",
        "\n",
        "for i in colsample_bytree_range:\n",
        "    clf = XGBClassifier(eta=0.041666666666666664, colsample_bytree=i, eval_metric='logloss')\n",
        "    accuracy_scores.append(cross_val_score(clf, X_train, y_train, cv=5, scoring='accuracy').mean())\n",
        "    \n",
        "\n",
        "plt.plot(colsample_bytree_range, accuracy_scores)\n",
        "plt.xlabel('colsample_bytree')\n",
        "plt.ylabel('Accuracy')\n",
        "\n",
        "print(f'best colsample_bytree= {colsample_bytree_range[np.argmax(accuracy_scores)]}')"
      ]
    },
    {
      "cell_type": "code",
      "execution_count": null,
      "metadata": {
        "id": "t8qPpUP3xjqC",
        "outputId": "9eb3b0f1-c0a0-48e8-8a9c-d80ff75dec68"
      },
      "outputs": [
        {
          "name": "stdout",
          "output_type": "stream",
          "text": [
            "best gamma= 1.507537688442211\n"
          ]
        },
        {
          "data": {
            "image/png": "[encoded data removed]",
            "text/plain": [
              "<Figure size 432x288 with 1 Axes>"
            ]
          },
          "metadata": {
            "needs_background": "light"
          },
          "output_type": "display_data"
        }
      ],
      "source": [
        "gamma_range =np.linspace(0, 30, 200)\n",
        "\n",
        "accuracy_scores = []\n",
        "\n",
        "for i in gamma_range:\n",
        "    clf = XGBClassifier(eta=0.041666666666666664, colsample_bytree=0.4, gamma=i, eval_metric='logloss')\n",
        "    accuracy_scores.append(cross_val_score(clf, X_train, y_train, cv=5, scoring='accuracy').mean())\n",
        "    \n",
        "\n",
        "plt.plot(gamma_range, accuracy_scores)\n",
        "plt.xlabel('gamma')\n",
        "plt.ylabel('Accuracy')\n",
        "\n",
        "print(f'best gamma= {gamma_range[np.argmax(accuracy_scores)]}')"
      ]
    },
    {
      "cell_type": "code",
      "execution_count": null,
      "metadata": {
        "colab": {
          "base_uri": "https://localhost:8080/"
        },
        "id": "00cNqb_jxjqD",
        "outputId": "1e2292b2-f1fe-4652-9d80-d9046703a2f5"
      },
      "outputs": [
        {
          "output_type": "stream",
          "name": "stdout",
          "text": [
            "XGBoost classifier - calibrado\n",
            "Accuracy: 0.8877020785219399\n",
            "F1_score: 0.9071820567883561\n"
          ]
        }
      ],
      "source": [
        "xg_clas = XGBClassifier(eta=0.041666666666666664,colsample_bytree=0.4, gamma=1.507537688442211, eval_metric='logloss', random_state=1)\n",
        "\n",
        "xg_clas.fit(X_train.values, y_train.values)\n",
        "\n",
        "y_predict = xg_clas.predict(X_test.values)\n",
        "\n",
        "print(\"XGBoost classifier - calibrado\")\n",
        "print(f'Accuracy: {accuracy_score(y_test.values, y_predict)}')\n",
        "print(f\"F1_score: {f1_score(y_test.values, y_predict)}\")\n",
        "\n",
        "a4 = accuracy_score(y_test.values, y_predict)"
      ]
    },
    {
      "cell_type": "code",
      "execution_count": null,
      "metadata": {
        "id": "l-IVsPn4xjqE",
        "outputId": "4f5d463a-a5b1-4ef7-8b98-ecfc45a8fef9",
        "colab": {
          "base_uri": "https://localhost:8080/"
        }
      },
      "outputs": [
        {
          "output_type": "stream",
          "name": "stdout",
          "text": [
            "Fitting 5 folds for each of 300 candidates, totalling 1500 fits\n"
          ]
        },
        {
          "output_type": "execute_result",
          "data": {
            "text/plain": [
              "RandomizedSearchCV(cv=5, estimator=XGBClassifier(eval_metric='logloss'),\n",
              "                   n_iter=300, n_jobs=-1,\n",
              "                   param_distributions={'colsample_bytree': [0.3, 0.4, 0.5,\n",
              "                                                             0.7],\n",
              "                                        'eta': array([0.        , 0.04166667, 0.08333333, 0.125     , 0.16666667,\n",
              "       0.20833333, 0.25      , 0.29166667, 0.33333333, 0.375     ,\n",
              "       0.41666667, 0.45833333, 0.5       , 0.54166667, 0.58333333,\n",
              "       0.625     , 0.66666667, 0.70833333, 0.75      , 0.79166667,\n",
              "       0.8333333...\n",
              "       27.13567839, 27.28643216, 27.43718593, 27.5879397 , 27.73869347,\n",
              "       27.88944724, 28.04020101, 28.19095477, 28.34170854, 28.49246231,\n",
              "       28.64321608, 28.79396985, 28.94472362, 29.09547739, 29.24623116,\n",
              "       29.39698492, 29.54773869, 29.69849246, 29.84924623, 30.        ]),\n",
              "                                        'max_depth': [3, 4, 5, 6, 8, 10, 12,\n",
              "                                                      15],\n",
              "                                        'min_child_weight': [1, 3, 5, 7],\n",
              "                                        'subsample': [0.6, 0.8, 1.0]},\n",
              "                   random_state=1001, scoring='accuracy', verbose=3)"
            ]
          },
          "metadata": {},
          "execution_count": 23
        }
      ],
      "source": [
        "# calibracion con RandomizedSearchCV\n",
        "\n",
        "from sklearn.model_selection import KFold\n",
        "\n",
        "params = {\n",
        "    'min_child_weight': [ 1, 3, 5, 7 ],\n",
        "    'gamma': np.linspace(0, 30, 200),\n",
        "    'eta': np.linspace(0, 1, 25),\n",
        "    'subsample': [0.6, 0.8, 1.0],\n",
        "    'colsample_bytree': [ 0.3, 0.4, 0.5 , 0.7 ],\n",
        "    'max_depth': [ 3, 4, 5, 6, 8, 10, 12, 15]\n",
        "}\n",
        "\n",
        "xg_class = XGBClassifier(eval_metric='logloss')\n",
        "\n",
        "random_search = RandomizedSearchCV(xg_class, param_distributions=params, n_iter=300, scoring='accuracy', n_jobs=-1, cv=5, verbose=3, random_state=1001 )\n",
        "\n",
        "random_search.fit(X_train.values, y_train.values)"
      ]
    },
    {
      "cell_type": "code",
      "execution_count": null,
      "metadata": {
        "id": "g4LIz_eLxjqF",
        "outputId": "d59eecba-9200-44fc-eb2c-74fb8a59943a",
        "colab": {
          "base_uri": "https://localhost:8080/"
        }
      },
      "outputs": [
        {
          "output_type": "stream",
          "name": "stdout",
          "text": [
            "XGBClassifier(colsample_bytree=0.4, eta=0.3333333333333333,\n",
            "              eval_metric='logloss', gamma=6.331658291457286, max_depth=15,\n",
            "              min_child_weight=7, subsample=0.6)\n",
            "{'subsample': 0.6, 'min_child_weight': 7, 'max_depth': 15, 'gamma': 6.331658291457286, 'eta': 0.3333333333333333, 'colsample_bytree': 0.4}\n"
          ]
        }
      ],
      "source": [
        "print(random_search.best_estimator_)\n",
        "print(random_search.best_params_)"
      ]
    },
    {
      "cell_type": "code",
      "execution_count": null,
      "metadata": {
        "colab": {
          "base_uri": "https://localhost:8080/"
        },
        "id": "52vWjf-NxjqG",
        "outputId": "c5839f97-f432-48e5-c2c7-7eb4493a71f7"
      },
      "outputs": [
        {
          "output_type": "stream",
          "name": "stdout",
          "text": [
            "XGBoost classifier - calibrado por RandomizedSearchCV\n",
            "Accuracy: 0.8891454965357968\n",
            "F1_score: 0.908133971291866\n"
          ]
        }
      ],
      "source": [
        "xg_clas = XGBClassifier(colsample_bytree=0.4, eta=0.3333333333333333,\n",
        "              eval_metric='logloss', gamma=6.331658291457286,subsample=0.6, min_child_weight=7, max_depth=15, \n",
        "              random_state=101)\n",
        "\n",
        "xg_clas.fit(X_train.values, y_train.values)\n",
        "\n",
        "y_predict = xg_clas.predict(X_test.values)\n",
        "\n",
        "print(\"XGBoost classifier - calibrado por RandomizedSearchCV\")\n",
        "print(f'Accuracy: {accuracy_score(y_test.values, y_predict)}')\n",
        "print(f\"F1_score: {f1_score(y_test.values, y_predict)}\")\n",
        "\n",
        "a5 = accuracy_score(y_test.values, y_predict)"
      ]
    },
    {
      "cell_type": "markdown",
      "source": [
        "Al calibrar los parámetros learning_rate, gamma y colsample_bytree se encontraron los siguientes valores óptimos:\n",
        "\n",
        "* learning_rate: 0.042. Se observa que el accuracy aumenta hasta una tasa de aprendizaje de 0.042 y a partir de este valor parece que el accuracy logra estabilidad sin grandes cambios ante aumentos en la tasa de aprendizaje.\n",
        "* gamma: 1.507. Se observa que el accuracy logra su mayor valor cuando gamma (reducción de pérdida mínima necesaria para realizar una partición adicional en un nodo de hoja del árbol) es igual a 1.507, a partir de este punto el accuracy se ve afectado negativamente ante aumentos en gamma.\n",
        "* colsample_bytree: 0.4. Se observa que el accuracy logra su mayor valor cuando colsample_bytree (relación de submuestra de las columnas al construir cada árbol) es igual a 0.4 y a partir de este valor parece que el accuracy logra estabilidad sin grandes cambios ante aumentos en gamma.\n",
        "\n",
        "El accuracy del XGBosst para clasificación con estos parámetros es de 0.886. Adicionalmente, al calibrar el modelo a través de cross-validation aleatorio se logra estimar un modelo con accuracy de 0.889"
      ],
      "metadata": {
        "id": "w1bnpZt57wOx"
      }
    },
    {
      "cell_type": "markdown",
      "metadata": {
        "id": "OYEy7rI9xjqH"
      },
      "source": [
        "### Punto 8 - Comparación y análisis de resultados\n",
        "En la celda 8 comparen los resultados obtenidos de los diferentes modelos (random forest y XGBoost) y comenten las ventajas del mejor modelo y las desventajas del modelo con el menor desempeño."
      ]
    },
    {
      "cell_type": "code",
      "execution_count": null,
      "metadata": {
        "colab": {
          "base_uri": "https://localhost:8080/"
        },
        "id": "Jqb0VO0lxjqH",
        "outputId": "071d4fbb-08f0-4b08-dc4b-564fcf24b2d2"
      },
      "outputs": [
        {
          "output_type": "stream",
          "name": "stdout",
          "text": [
            "El accuracy del Random Forest fue: 0.8429561200923787\n",
            "El accuracy del Random Forest calibrado fue: 0.8871247113163973\n",
            "El accuracy del XGBoost fue: 0.8877020785219399\n",
            "El accuracy del XGBoost calibrado fue: 0.8891454965357968\n"
          ]
        }
      ],
      "source": [
        "# Celda 8\n",
        "print(\"El accuracy del Random Forest fue:\", a1)\n",
        "print(\"El accuracy del Random Forest calibrado fue:\", a2)\n",
        "print(\"El accuracy del XGBoost fue:\", a3)\n",
        "print(\"El accuracy del XGBoost calibrado fue:\", a5)"
      ]
    },
    {
      "cell_type": "markdown",
      "source": [
        "El modelo XGBoost tiene el mejor desempeño predictivo que el modelo Random Forest, debido a la construcción secuencial de los árboles y la combinación de resultados durante el entrenamiento del modelo. La desventaja del Random Forest es que combina el resultado hasta el final."
      ],
      "metadata": {
        "id": "zCCXYwfMGVv_"
      }
    }
  ],
  "metadata": {
    "kernelspec": {
      "display_name": "Python 3 (ipykernel)",
      "language": "python",
      "name": "python3"
    },
    "language_info": {
      "codemirror_mode": {
        "name": "ipython",
        "version": 3
      },
      "file_extension": ".py",
      "mimetype": "text/x-python",
      "name": "python",
      "nbconvert_exporter": "python",
      "pygments_lexer": "ipython3",
      "version": "3.8.13"
    },
    "colab": {
      "name": "S2TC1_RandomForests_Boosting.ipynb",
      "provenance": [],
      "collapsed_sections": []
    }
  },
  "nbformat": 4,
  "nbformat_minor": 0
}
