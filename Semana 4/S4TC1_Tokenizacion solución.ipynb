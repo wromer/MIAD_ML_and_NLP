{
  "cells": [
    {
      "cell_type": "markdown",
      "metadata": {
        "id": "adlvlKDNSLyR"
      },
      "source": [
        "![image info](https://raw.githubusercontent.com/albahnsen/MIAD_ML_and_NLP/main/images/banner_1.png)"
      ]
    },
    {
      "cell_type": "markdown",
      "metadata": {
        "id": "i_3b93L1SLyT"
      },
      "source": [
        "# Taller: Tokenización de textos  \n",
        "\n",
        "En este taller podrán poner en práctica sus conocimientos sobre preprocesamiento de texto (tokenización). El taller está constituido por 5 puntos, en los cuales deberan seguir las intrucciones de cada numeral para su desarrollo."
      ]
    },
    {
      "cell_type": "markdown",
      "metadata": {
        "id": "50xSVGIJSLyT"
      },
      "source": [
        "## Datos detección de toxicidad en comentarios\n",
        "\n",
        "En este taller se usará el conjunto de datos de detección de toxicidad en comentarios de la base de datos de Kaggle. Cada observación es un comentario que tiene como variable objetivo (target) la probabilidad de ser un comentario tóxico. El objetivo es predecir la toxicidad de cada comentario. Para más detalles pueden visitar el siguiente enlace: [datos](https://www.kaggle.com/c/jigsaw-unintended-bias-in-toxicity-classification/data)."
      ]
    },
    {
      "cell_type": "code",
      "execution_count": null,
      "metadata": {
        "id": "7Ksr4kMVSLyU"
      },
      "outputs": [],
      "source": [
        "import warnings\n",
        "warnings.filterwarnings('ignore')"
      ]
    },
    {
      "cell_type": "code",
      "execution_count": null,
      "metadata": {
        "id": "6mpNOXaWSLyU"
      },
      "outputs": [],
      "source": [
        "# Importación librerías\n",
        "import pandas as pd\n",
        "import numpy as np\n",
        "import scipy as sp\n",
        "from sklearn.model_selection import train_test_split, cross_val_score\n",
        "from sklearn.feature_extraction.text import CountVectorizer, TfidfVectorizer\n",
        "from sklearn import metrics\n",
        "%matplotlib inline"
      ]
    },
    {
      "cell_type": "code",
      "execution_count": null,
      "metadata": {
        "colab": {
          "base_uri": "https://localhost:8080/",
          "height": 206
        },
        "id": "kGuu0ieqSLyY",
        "outputId": "bc7e006e-b12f-4825-9363-10532e12fce2"
      },
      "outputs": [
        {
          "output_type": "execute_result",
          "data": {
            "text/plain": [
              "        id                                       comment_text  target\n",
              "0  6101457  What are you talking about? What group do Pete...     0.0\n",
              "1  5342103   NO!, Let him, we need a Conservative government.     0.0\n",
              "2   743361  Perhaps he took the \"power out of the Cardinal...     0.2\n",
              "3   551008  As always, yours is dripping with sarcasm, whi...     0.0\n",
              "4   865998  The dirty little secret is that the price rang...     0.3"
            ],
            "text/html": [
              "\n",
              "  <div id=\"df-f5989759-1b03-4c3e-bfd9-082f012aee42\">\n",
              "    <div class=\"colab-df-container\">\n",
              "      <div>\n",
              "<style scoped>\n",
              "    .dataframe tbody tr th:only-of-type {\n",
              "        vertical-align: middle;\n",
              "    }\n",
              "\n",
              "    .dataframe tbody tr th {\n",
              "        vertical-align: top;\n",
              "    }\n",
              "\n",
              "    .dataframe thead th {\n",
              "        text-align: right;\n",
              "    }\n",
              "</style>\n",
              "<table border=\"1\" class=\"dataframe\">\n",
              "  <thead>\n",
              "    <tr style=\"text-align: right;\">\n",
              "      <th></th>\n",
              "      <th>id</th>\n",
              "      <th>comment_text</th>\n",
              "      <th>target</th>\n",
              "    </tr>\n",
              "  </thead>\n",
              "  <tbody>\n",
              "    <tr>\n",
              "      <th>0</th>\n",
              "      <td>6101457</td>\n",
              "      <td>What are you talking about? What group do Pete...</td>\n",
              "      <td>0.0</td>\n",
              "    </tr>\n",
              "    <tr>\n",
              "      <th>1</th>\n",
              "      <td>5342103</td>\n",
              "      <td>NO!, Let him, we need a Conservative government.</td>\n",
              "      <td>0.0</td>\n",
              "    </tr>\n",
              "    <tr>\n",
              "      <th>2</th>\n",
              "      <td>743361</td>\n",
              "      <td>Perhaps he took the \"power out of the Cardinal...</td>\n",
              "      <td>0.2</td>\n",
              "    </tr>\n",
              "    <tr>\n",
              "      <th>3</th>\n",
              "      <td>551008</td>\n",
              "      <td>As always, yours is dripping with sarcasm, whi...</td>\n",
              "      <td>0.0</td>\n",
              "    </tr>\n",
              "    <tr>\n",
              "      <th>4</th>\n",
              "      <td>865998</td>\n",
              "      <td>The dirty little secret is that the price rang...</td>\n",
              "      <td>0.3</td>\n",
              "    </tr>\n",
              "  </tbody>\n",
              "</table>\n",
              "</div>\n",
              "      <button class=\"colab-df-convert\" onclick=\"convertToInteractive('df-f5989759-1b03-4c3e-bfd9-082f012aee42')\"\n",
              "              title=\"Convert this dataframe to an interactive table.\"\n",
              "              style=\"display:none;\">\n",
              "        \n",
              "  <svg xmlns=\"http://www.w3.org/2000/svg\" height=\"24px\"viewBox=\"0 0 24 24\"\n",
              "       width=\"24px\">\n",
              "    <path d=\"M0 0h24v24H0V0z\" fill=\"none\"/>\n",
              "    <path d=\"M18.56 5.44l.94 2.06.94-2.06 2.06-.94-2.06-.94-.94-2.06-.94 2.06-2.06.94zm-11 1L8.5 8.5l.94-2.06 2.06-.94-2.06-.94L8.5 2.5l-.94 2.06-2.06.94zm10 10l.94 2.06.94-2.06 2.06-.94-2.06-.94-.94-2.06-.94 2.06-2.06.94z\"/><path d=\"M17.41 7.96l-1.37-1.37c-.4-.4-.92-.59-1.43-.59-.52 0-1.04.2-1.43.59L10.3 9.45l-7.72 7.72c-.78.78-.78 2.05 0 2.83L4 21.41c.39.39.9.59 1.41.59.51 0 1.02-.2 1.41-.59l7.78-7.78 2.81-2.81c.8-.78.8-2.07 0-2.86zM5.41 20L4 18.59l7.72-7.72 1.47 1.35L5.41 20z\"/>\n",
              "  </svg>\n",
              "      </button>\n",
              "      \n",
              "  <style>\n",
              "    .colab-df-container {\n",
              "      display:flex;\n",
              "      flex-wrap:wrap;\n",
              "      gap: 12px;\n",
              "    }\n",
              "\n",
              "    .colab-df-convert {\n",
              "      background-color: #E8F0FE;\n",
              "      border: none;\n",
              "      border-radius: 50%;\n",
              "      cursor: pointer;\n",
              "      display: none;\n",
              "      fill: #1967D2;\n",
              "      height: 32px;\n",
              "      padding: 0 0 0 0;\n",
              "      width: 32px;\n",
              "    }\n",
              "\n",
              "    .colab-df-convert:hover {\n",
              "      background-color: #E2EBFA;\n",
              "      box-shadow: 0px 1px 2px rgba(60, 64, 67, 0.3), 0px 1px 3px 1px rgba(60, 64, 67, 0.15);\n",
              "      fill: #174EA6;\n",
              "    }\n",
              "\n",
              "    [theme=dark] .colab-df-convert {\n",
              "      background-color: #3B4455;\n",
              "      fill: #D2E3FC;\n",
              "    }\n",
              "\n",
              "    [theme=dark] .colab-df-convert:hover {\n",
              "      background-color: #434B5C;\n",
              "      box-shadow: 0px 1px 3px 1px rgba(0, 0, 0, 0.15);\n",
              "      filter: drop-shadow(0px 1px 2px rgba(0, 0, 0, 0.3));\n",
              "      fill: #FFFFFF;\n",
              "    }\n",
              "  </style>\n",
              "\n",
              "      <script>\n",
              "        const buttonEl =\n",
              "          document.querySelector('#df-f5989759-1b03-4c3e-bfd9-082f012aee42 button.colab-df-convert');\n",
              "        buttonEl.style.display =\n",
              "          google.colab.kernel.accessAllowed ? 'block' : 'none';\n",
              "\n",
              "        async function convertToInteractive(key) {\n",
              "          const element = document.querySelector('#df-f5989759-1b03-4c3e-bfd9-082f012aee42');\n",
              "          const dataTable =\n",
              "            await google.colab.kernel.invokeFunction('convertToInteractive',\n",
              "                                                     [key], {});\n",
              "          if (!dataTable) return;\n",
              "\n",
              "          const docLinkHtml = 'Like what you see? Visit the ' +\n",
              "            '<a target=\"_blank\" href=https://colab.research.google.com/notebooks/data_table.ipynb>data table notebook</a>'\n",
              "            + ' to learn more about interactive tables.';\n",
              "          element.innerHTML = '';\n",
              "          dataTable['output_type'] = 'display_data';\n",
              "          await google.colab.output.renderOutput(dataTable, element);\n",
              "          const docLink = document.createElement('div');\n",
              "          docLink.innerHTML = docLinkHtml;\n",
              "          element.appendChild(docLink);\n",
              "        }\n",
              "      </script>\n",
              "    </div>\n",
              "  </div>\n",
              "  "
            ]
          },
          "metadata": {},
          "execution_count": 3
        }
      ],
      "source": [
        "# Carga de datos de archivos .csv\n",
        "df = pd.read_csv('https://raw.githubusercontent.com/albahnsen/MIAD_ML_and_NLP/main/datasets/Toxicity.zip')\n",
        "df = df[['id','comment_text', 'target']]\n",
        "df.head()"
      ]
    },
    {
      "cell_type": "code",
      "execution_count": null,
      "metadata": {
        "id": "-8qqhjZTSLyZ",
        "colab": {
          "base_uri": "https://localhost:8080/",
          "height": 283
        },
        "outputId": "2671b2d2-48c3-48a9-ea55-536497c5f153"
      },
      "outputs": [
        {
          "output_type": "execute_result",
          "data": {
            "text/plain": [
              "<matplotlib.axes._subplots.AxesSubplot at 0x7f6136bc5450>"
            ]
          },
          "metadata": {},
          "execution_count": 4
        },
        {
          "output_type": "display_data",
          "data": {
            "text/plain": [
              "<Figure size 432x288 with 1 Axes>"
            ],
            "image/png": "[encoded data removed]"
          },
          "metadata": {
            "needs_background": "light"
          }
        }
      ],
      "source": [
        "# Impresión histograma de variable de interés (y)\n",
        "df.target.hist()"
      ]
    },
    {
      "cell_type": "code",
      "execution_count": null,
      "metadata": {
        "colab": {
          "base_uri": "https://localhost:8080/"
        },
        "id": "4ilW8x2TSLyZ",
        "outputId": "d6f3b642-e3e2-4dc0-e1b7-17e22eb65412"
      },
      "outputs": [
        {
          "output_type": "execute_result",
          "data": {
            "text/plain": [
              "count    541462.000000\n",
              "mean          0.102991\n",
              "std           0.196979\n",
              "min           0.000000\n",
              "25%           0.000000\n",
              "50%           0.000000\n",
              "75%           0.166667\n",
              "max           1.000000\n",
              "Name: target, dtype: float64"
            ]
          },
          "metadata": {},
          "execution_count": 5
        }
      ],
      "source": [
        "# Separación de variable de interés (y)\n",
        "y = df.target\n",
        "y.describe()"
      ]
    },
    {
      "cell_type": "code",
      "execution_count": null,
      "metadata": {
        "id": "6-WuDsA5SLya"
      },
      "outputs": [],
      "source": [
        "# Separación de variables predictoras (X), solo se considera el texto de la noticia\n",
        "X = df.comment_text"
      ]
    },
    {
      "cell_type": "code",
      "execution_count": null,
      "metadata": {
        "id": "_hRB_HatSLya"
      },
      "outputs": [],
      "source": [
        "# Separación de datos en set de entrenamiento y test\n",
        "X_train, X_test, y_train, y_test = train_test_split(X, y, test_size=0.33, random_state=42)"
      ]
    },
    {
      "cell_type": "markdown",
      "metadata": {
        "id": "huM2vCdeSLya"
      },
      "source": [
        "## Punto 1 - Tokenización con CountVectorizer\n",
        "\n",
        "En la celda 1 creen y entrenen el modelo de regresión de su preferencia, para que prediga la probabilidad de que un comentario sea tóxico, usando los set de entrenamiento y test definidos anteriormente. Usen la función **CountVectorizer** para preprocesar los comentarios y presenten el desempeño del modelo con la métrica del acurracy.\n",
        "\n",
        "Recuerden que el preprocesamiento que se haga sobre los datos de entrenamiento  (*.fit_transform()*) deben ser aplicado al set de test (*.transform()*)."
      ]
    },
    {
      "cell_type": "code",
      "source": [
        "import nltk\n",
        "import re\n",
        "nltk.download(\"stopwords\")\n",
        "nltk.download('wordnet')\n",
        "\n",
        "wpt = nltk.WordPunctTokenizer()\n",
        "lem = nltk.WordNetLemmatizer()\n",
        "sw = nltk.corpus.stopwords.words('english')"
      ],
      "metadata": {
        "colab": {
          "base_uri": "https://localhost:8080/"
        },
        "id": "htoqx_M6Er-A",
        "outputId": "75aa9356-f0d8-45e5-8b5d-c723bc0093fc"
      },
      "execution_count": null,
      "outputs": [
        {
          "output_type": "stream",
          "name": "stdout",
          "text": [
            "[nltk_data] Downloading package stopwords to /root/nltk_data...\n",
            "[nltk_data]   Unzipping corpora/stopwords.zip.\n",
            "[nltk_data] Downloading package wordnet to /root/nltk_data...\n",
            "[nltk_data]   Unzipping corpora/wordnet.zip.\n"
          ]
        }
      ]
    },
    {
      "cell_type": "code",
      "source": [
        "def preprocess(doc):\n",
        "    doc = re.sub(r'[^a-zA-Z\\s]', '', doc, re.I|re.A)\n",
        "    doc = doc.lower().strip()\n",
        "    tokens = wpt.tokenize(doc)\n",
        "    tokens = [\n",
        "            lem.lemmatize(token)\n",
        "            for token in tokens\n",
        "            if token not in sw\n",
        "            ]\n",
        "    doc = ' '.join(tokens)\n",
        "    return doc"
      ],
      "metadata": {
        "id": "v7iEuXi_k2HS"
      },
      "execution_count": null,
      "outputs": []
    },
    {
      "cell_type": "code",
      "source": [
        "corpus = X_train\n",
        "\n",
        "norm_corpus = list(\n",
        "        map(\n",
        "            preprocess, corpus\n",
        "            )\n",
        "        )\n",
        "norm_corpus[:10]"
      ],
      "metadata": {
        "colab": {
          "base_uri": "https://localhost:8080/"
        },
        "id": "xMIc8qYWC4ei",
        "outputId": "57b89bc9-0442-4ff5-e417-6fd00a8cbe8e"
      },
      "execution_count": null,
      "outputs": [
        {
          "output_type": "execute_result",
          "data": {
            "text/plain": [
              "['oral history ever say nazi eugenic experiment native child mcgill full knowledge government yup say happened say didnt',\n",
              " 'marijuana le harmful human health cigarette widely used ban marijuana reduces stress aggression level leading le crime medical value favorable effect health scientifically proven author also consideration marijuana use legalized market transparent surely better illegal sale drug case young adult le interest harmful drug hence need ban marijuana sale use marijuana cannot cause problem bigger legalized widespread cigarette',\n",
              " 'look see many woman photo white supremecists woman side',\n",
              " 'see like others stood south africa year ago agree shame',\n",
              " 'next theyll coming isi',\n",
              " 'could left great act nepotism get charles old time alaskan good family one blew vast amount oil wealth instead creating sovereign fund like norwegian steal pfd poor dont pay tax fluff piece doesnt conceal',\n",
              " 'im gonna say logic teacher would give zero obvious generally speaking competent shooter gun ability rapidly shoot multiple round give shooter advantage anyone similar skill similarly armed',\n",
              " 'gop opportunity nominate govkasich presidential candidate nominated hed likely next president instead republican party dominated farright zealot chose donald trump thats sort thing happens youre willing sell political principle gain power gop party controlled far right rinos represented sensible rational rightofcenter moderate republican gonedefeated primary retired simply ask ten million mainstream republican lost party party principle worth look around gop today divided tattered shell ask worth ask earth going trump defeat going join accusation election rigged going help undermine faith democracy hope',\n",
              " 'chief im guessing aware sisyphean task entail im guessing say failed apologist foregone reason rational thought order attempt stake position support know trumpery test daily bound logic contort way attempting defend indefensible',\n",
              " 'guess justin wanted whip cf clown show']"
            ]
          },
          "metadata": {},
          "execution_count": 10
        }
      ]
    },
    {
      "cell_type": "code",
      "source": [
        "X_train = norm_corpus"
      ],
      "metadata": {
        "id": "4LWKEZ3PL233"
      },
      "execution_count": null,
      "outputs": []
    },
    {
      "cell_type": "code",
      "source": [
        "corpus = X_test\n",
        "\n",
        "norm_corpus_test = list(\n",
        "        map(\n",
        "            preprocess, corpus\n",
        "            )\n",
        "        )\n",
        "norm_corpus_test[:10]"
      ],
      "metadata": {
        "colab": {
          "base_uri": "https://localhost:8080/"
        },
        "id": "NyE9t0OHL6JD",
        "outputId": "5e201a20-6ca4-4bd1-cbc2-c3b5cdba4dfa"
      },
      "execution_count": null,
      "outputs": [
        {
          "output_type": "execute_result",
          "data": {
            "text/plain": [
              "['interesting sorry hear small business owner getting hit small business rarity today world hope adequate insurance help get gallery going juneau smash grab jewelry store gold ring taken perhaps drug problem something',\n",
              " 'take consideration motley already thinking million democrat',\n",
              " 'guess somewhat positive portrayal post fair prefer smear get one kick cat professor unlike detractor continually habitually come across reasoned fair logical perhaps simply based opinionson tumblr posting people feeling might appeal bit opponent professor peterson speaks great many society perpetually aggrieved greatest sin',\n",
              " 'according leading public finance environmental economist ted gayer kip viscusi omb properly confines computation social cost pollution domestic cost standard hawaii resident held responsible fracking practice regulatory failure state',\n",
              " 'great ever even thinking break monopoly corporate trust thats far much juggernaut u consumer people tolerate',\n",
              " 'absolute bull crap poke bear decade backing corner respond nato west building military base missile defense system decade look map see strategic build surround russia entirely would crazy think would go without defending country case ally',\n",
              " 'personally listen proabortionist unless work change law would allow mother euthanize child born poor inconvenienced unloving home reason vast majority give proabortion whether child month month whats big difference whats good goose',\n",
              " 'im one think highly people high office describe mclachlins speech tonedeaf bit galling propose mr butt away prima facie butt want find everyone accused crime found guilty lower bar quest criminalize unwanted look newly classified sexual assault order address wrong past take u away notion innocent proven guilty statistic laughably erroneous abject lack statistically verifiable data furthers incredulity hashtag ibelievesurvivors rallying cry policy prescription problem course anyone inkling discomfort label survivor system broken yes broken respect many thing affect men woman start making justice affordable first',\n",
              " 'dont think turning point election wasnt jim comey thing poll showed bernie sander popular candidate u time poll showed hillary percentage point ahead trump sander way ahead trump dnc however wanted nothing sander prematurely declared hillary democratic candidate rigged primary victory showed corruption democratic party contempt american people complete contrast hillary dems sander preparing transformation political economic system year angry american left right centre needed drain swamp washington create new prosperity',\n",
              " 'reading article seems say premier continue govern throne speech first order government resuming vote taken speaker chosen counted liberal refuse provide member speaker ndp would mean tie side green stay ndp speaker vote government break tie something didnt know tie situation government cant defeated anyone read article differently think would like know']"
            ]
          },
          "metadata": {},
          "execution_count": 12
        }
      ]
    },
    {
      "cell_type": "code",
      "source": [
        "X_test = norm_corpus_test"
      ],
      "metadata": {
        "id": "1RB4MNApMNw6"
      },
      "execution_count": null,
      "outputs": []
    },
    {
      "cell_type": "code",
      "source": [
        "# Celda 1\n",
        "vectoraizer = CountVectorizer()\n",
        "xvect = vectoraizer.fit_transform(X_train)\n",
        "\n",
        "from sklearn.ensemble import RandomForestRegressor\n",
        "\n",
        "reg = RandomForestRegressor(max_features=5, n_estimators=50, n_jobs=-1, random_state=42, max_depth=10)\n",
        "reg.fit(xvect, y_train)\n",
        "\n",
        "X_testv = vectoraizer.transform(X_test)\n",
        "pred =  reg.predict(X_testv)\n",
        "print('Mean Squared Error (MSE):', metrics.mean_squared_error(y_test, pred))\n",
        "regmse = metrics.mean_squared_error(y_test, pred)"
      ],
      "metadata": {
        "colab": {
          "base_uri": "https://localhost:8080/"
        },
        "id": "zA-8RjMZTYoa",
        "outputId": "25a98833-2edf-4316-b0aa-b11f8d9b07cc"
      },
      "execution_count": null,
      "outputs": [
        {
          "output_type": "stream",
          "name": "stdout",
          "text": [
            "Mean Squared Error (MSE): 0.039019508748028314\n"
          ]
        }
      ]
    },
    {
      "cell_type": "markdown",
      "source": [
        "Como parte del preprocesamiento, se noramlizó el texto eliminando signos de puntuación y palabras que no aportan al sentido global del texto, además de convertir texto en vectores que puedan ser procesados por los modelos a través de CountVectorizer.  Se estimó con estos vectores un modelo por Random Forest y al validar en test se calculó un MSE de 0.039019."
      ],
      "metadata": {
        "id": "I9REYJEZtVK2"
      }
    },
    {
      "cell_type": "markdown",
      "metadata": {
        "id": "CZeNKRI5SLyb"
      },
      "source": [
        "## Punto 2 - Tokenización con CountVectorizer y trigramas\n",
        "\n",
        "En la celda 2 creen y entrenen el mismo modelo de regresión del punto anterior (es decir si usaron un RandomForestRegresor usen nuevamente ese regresor), para que prediga la probabilidad de que un comentario sea tóxico, usando los set de entrenamiento y test definidos anteriormente. Usen la función CountVectorizer **considerando trigramas** para preprocesar los comentarios y presenten el desempeño del modelo con la métrica del acurracy.\n",
        "\n",
        "Recuerden que el preprocesamiento que se haga sobre los datos de entrenamiento  (*.fit_transform()*) deben ser aplicado al set de test (*.transform()*)."
      ]
    },
    {
      "cell_type": "code",
      "execution_count": null,
      "metadata": {
        "id": "Yu2t9mDtSLyb",
        "colab": {
          "base_uri": "https://localhost:8080/"
        },
        "outputId": "ccf958ec-b26e-4734-b6fa-1a82f1d88d51"
      },
      "outputs": [
        {
          "output_type": "stream",
          "name": "stdout",
          "text": [
            "Mean Squared Error (MSE): 0.03903351143799119\n"
          ]
        }
      ],
      "source": [
        "# Celda 2\n",
        "vectoraizer = CountVectorizer(ngram_range=(3, 3))\n",
        "xvect = vectoraizer.fit_transform(X_train)\n",
        "\n",
        "regtri = RandomForestRegressor(max_features=5, n_estimators=50, n_jobs=-1, random_state=42, max_depth=10)\n",
        "regtri.fit(xvect, y_train)\n",
        "\n",
        "X_testv = vectoraizer.transform(X_test)\n",
        "predtri =  regtri.predict(X_testv)\n",
        "print('Mean Squared Error (MSE):', metrics.mean_squared_error(y_test, predtri))\n",
        "regmsetri = metrics.mean_squared_error(y_test, predtri)"
      ]
    },
    {
      "cell_type": "markdown",
      "source": [
        "A través de CountVectorizer se convirtió al texto en vectores de trigramas.  Se estimó con estos vectores un modelo por Random Forest y al validar en test se calculó un un MSE de 0.03903, levemente más alto que el estimado en el punto anterior, por lo que se puede decir que no mejora el desempeño."
      ],
      "metadata": {
        "id": "q2Od6WOEwlDI"
      }
    },
    {
      "cell_type": "markdown",
      "metadata": {
        "id": "A0wd_N-4SLyc"
      },
      "source": [
        "## Punto 3 - TfidfVectorizer\n",
        "\n",
        "Investigen sobre la función TfidfVectorizer. En la celda de texto 3, expliquen en qué consiste esta técnica de tokenización (describanla y expliquen su funcionamiento) y cúales son las ventajas o deventajas de su uso al compararlo con la función CountVectorizer."
      ]
    },
    {
      "cell_type": "markdown",
      "metadata": {
        "id": "YBCMchxFSLyc"
      },
      "source": [
        "#Celda 3\n",
        "La función TfidfVectorizer convierte una colección de documentos sin procesar en una matriz de TF-IDF. Term Frequency Inverse Document Frequency es una medida de frecuencia de término y frecuencia inversa de documento, el valor TF-IDF aumenta proporcionalmente de acuerdo al número de veces que una palabra aparece y es compensada por la frecuencia de esta en la colección de documentos (el número de documentos en la cual aparece). Se calcula para una palabra $i$ en el documento $j$:\n",
        "\n",
        "$$\n",
        "  w_{i,j} = tf_{i,j}*log(\\frac{N}{df_{i}})\n",
        "$$\n",
        "\n",
        "donde $tf_{i,j}$ es el número de ocurrencias de $i$ en $j$, $df_{i}$ es el número de documentos que contienen $i$ y $N$ es el número total de documentos.\n",
        "\n",
        "CountVectorizer y TidfVectorizer son métodos para convertir datos de texto en vectores, para ingresar a un modelo de predicción. CountVectorizer proporciona la frecuencia de cada palabra en el corpus, lo que da como resultado un sesgo a favor de las palabras más frecuentes ignorando palabras raras que podrían  ayudado a procesar los datos de manera más eficiente. La ventaja de TF-IDF es que expresa cuán importante es una palabra en el corpus, ponderando la frecuencia y su peso, esto es útil para el análisis y construcción del modelo ya que ayuda a eliminar las palabras menos importantes y reducir las dimensiones de entrada."
      ]
    },
    {
      "cell_type": "markdown",
      "metadata": {
        "id": "tIPE-aDwSLyc"
      },
      "source": [
        "## Punto 4 - Tokenización con TfidfVectorizer\n",
        "\n",
        "En la celda 4 creen y entrenen el mismo modelo de regresión del primer punto, para que prediga la probabilidad de que un comentario sea tóxico, usando los set de entrenamiento y test definidos anteriormente. Procesen los comentarios con la función **TfidfVectorizer** y presenten el desempeño del modelo con la métrica del acurracy.\n",
        "\n",
        "Recuerden que el preprocesamiento que se haga sobre los datos de entrenamiento  (*.fit_transform()*) deben ser aplicado al set de test (*.transform()*)."
      ]
    },
    {
      "cell_type": "code",
      "execution_count": null,
      "metadata": {
        "id": "aO774os3SLyc",
        "colab": {
          "base_uri": "https://localhost:8080/"
        },
        "outputId": "392a99c5-6b63-4e73-c4ad-602e8b9ae070"
      },
      "outputs": [
        {
          "output_type": "stream",
          "name": "stdout",
          "text": [
            "Mean Squared Error (MSE): 0.0390179380535067\n"
          ]
        }
      ],
      "source": [
        "# Celda 4\n",
        "vectoraizer = TfidfVectorizer()\n",
        "xvect = vectoraizer.fit_transform(X_train)\n",
        "\n",
        "regtfid = RandomForestRegressor(max_features=5, n_estimators=50, n_jobs=-1, random_state=42, max_depth=10)\n",
        "regtfid.fit(xvect, y_train)\n",
        "\n",
        "X_testv = vectoraizer.transform(X_test)\n",
        "predtfid =  regtfid.predict(X_testv)\n",
        "print('Mean Squared Error (MSE):', metrics.mean_squared_error(y_test, predtfid))\n",
        "regmsetfid = metrics.mean_squared_error(y_test, predtfid)"
      ]
    },
    {
      "cell_type": "markdown",
      "source": [
        "A través de TfidfVectorizer se convirtió al texto en vectores.  Se estimó con estos vectores un modelo por Random Forest y al validar en test se calculó un un MSE de 0.039017, levemente más bajo que los transformados con CountVectorizer."
      ],
      "metadata": {
        "id": "hW_VNepdzPkj"
      }
    },
    {
      "cell_type": "markdown",
      "metadata": {
        "id": "z7nnHQIDSLyd"
      },
      "source": [
        "## Punto 5 - Comparación y análisis de resultados\n",
        "\n",
        "En la celda 5 comparen los resultados obtenidos de los diferentes modelos y comenten cómo el preprocesamiento de texto afecta el desempeño."
      ]
    },
    {
      "cell_type": "code",
      "execution_count": null,
      "metadata": {
        "id": "DYL7N3liSLyd",
        "colab": {
          "base_uri": "https://localhost:8080/",
          "height": 352
        },
        "outputId": "7b859a42-445a-4c84-b82d-025a65fafa42"
      },
      "outputs": [
        {
          "output_type": "display_data",
          "data": {
            "text/plain": [
              "<Figure size 432x288 with 1 Axes>"
            ],
            "image/png": "[encoded data removed]"
          },
          "metadata": {
            "needs_background": "light"
          }
        }
      ],
      "source": [
        "# Celda 5\n",
        "import matplotlib.pyplot as plt\n",
        "\n",
        "fig = plt.figure()\n",
        "ax = fig.add_axes([0,0,1,1])\n",
        "ax.set_title(\"Comparación de modelos MSE\")\n",
        "ejeX = ['MSE CountV' ,'MSE CountV 3-N', 'MSE Tfidf']\n",
        "ejeY = [regmse,regmsetri,regmsetfid]\n",
        "ax.bar(ejeX,ejeY)\n",
        "def addlabels(x,y,plotP):\n",
        "    for i in range(len(x)):\n",
        "        plotP.text(i,y[i],y[i])\n",
        "addlabels(ejeX,ejeY,plt)\n",
        "plt.show()"
      ]
    },
    {
      "cell_type": "markdown",
      "source": [
        "Al análizar los tres modelos estimados, se puede observar que aquel transformado con tokenización de TfidfVectorizer es el de mejor desempeño con el MSE más bajo. De esta manera, se puede observar que la asignación de importancia a las palabras por frecuencia no tiene el mejor desempeño, además de aumentar el tiempo de procesamiento."
      ],
      "metadata": {
        "id": "_tTCCoSBUfgj"
      }
    }
  ],
  "metadata": {
    "kernelspec": {
      "display_name": "Python 3",
      "language": "python",
      "name": "python3"
    },
    "language_info": {
      "codemirror_mode": {
        "name": "ipython",
        "version": 3
      },
      "file_extension": ".py",
      "mimetype": "text/x-python",
      "name": "python",
      "nbconvert_exporter": "python",
      "pygments_lexer": "ipython3",
      "version": "3.7.3"
    },
    "name": "_merged",
    "colab": {
      "name": "S4TC1_Tokenizacion.ipynb",
      "provenance": [],
      "collapsed_sections": []
    }
  },
  "nbformat": 4,
  "nbformat_minor": 0
}
